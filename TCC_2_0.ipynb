{
  "cells": [
    {
      "cell_type": "markdown",
      "metadata": {
        "id": "view-in-github",
        "colab_type": "text"
      },
      "source": [
        "<a href=\"https://colab.research.google.com/github/moraesv/chatbot-telegram-fake-news/blob/main/TCC_2_0.ipynb\" target=\"_parent\"><img src=\"https://colab.research.google.com/assets/colab-badge.svg\" alt=\"Open In Colab\"/></a>"
      ]
    },
    {
      "cell_type": "markdown",
      "metadata": {
        "id": "8QZuTD_V6KLg"
      },
      "source": [
        "### Monta repo do drive"
      ]
    },
    {
      "cell_type": "code",
      "execution_count": null,
      "metadata": {
        "colab": {
          "base_uri": "https://localhost:8080/"
        },
        "id": "exBYSVAW5_Q2",
        "outputId": "98c6b831-7d19-43b8-daca-772d5eb7bded"
      },
      "outputs": [
        {
          "output_type": "stream",
          "name": "stdout",
          "text": [
            "Mounted at /content/drive/\n"
          ]
        }
      ],
      "source": [
        "from google.colab import drive\n",
        "drive.mount('/content/drive/')"
      ]
    },
    {
      "cell_type": "markdown",
      "metadata": {
        "id": "j4NOt2AKYB9m"
      },
      "source": [
        "### Descompacta as noticias"
      ]
    },
    {
      "cell_type": "code",
      "execution_count": null,
      "metadata": {
        "id": "Nl3WfWynN9_W"
      },
      "outputs": [],
      "source": [
        "import zipfile\n",
        "zip_ref = zipfile.ZipFile(\"/content/drive/My Drive/TCC 2022/DESENVOLVIMENTO/noticias.zip\", 'r')\n",
        "zip_ref.extractall(\"/content/noticias\")\n",
        "zip_ref.close()"
      ]
    },
    {
      "cell_type": "markdown",
      "metadata": {
        "id": "mWEvrtqYYI3X"
      },
      "source": [
        "Remove as noticias se necessário"
      ]
    },
    {
      "cell_type": "code",
      "execution_count": null,
      "metadata": {
        "id": "xLAYbxgZNPi_"
      },
      "outputs": [],
      "source": [
        "#import shutil\n",
        "#shutil.rmtree('/content/noticias')"
      ]
    },
    {
      "cell_type": "markdown",
      "metadata": {
        "id": "jutlEWyNYQgF"
      },
      "source": [
        "### Agrupa as informações de todas as notícias"
      ]
    },
    {
      "cell_type": "code",
      "execution_count": null,
      "metadata": {
        "colab": {
          "base_uri": "https://localhost:8080/",
          "height": 55
        },
        "id": "B-GKIL3-RjE7",
        "outputId": "c124c8dc-202b-43b7-b7a3-47ad672282f7"
      },
      "outputs": [
        {
          "name": "stdout",
          "output_type": "stream",
          "text": [
            "updating: content/noticias/todas_noticias.csv (deflated 64%)\n"
          ]
        },
        {
          "data": {
            "application/vnd.google.colaboratory.intrinsic+json": {
              "type": "string"
            },
            "text/plain": [
              "'/content/drive/My Drive/TCC 2022/DESENVOLVIMENTO/todas_noticias.csv'"
            ]
          },
          "execution_count": 11,
          "metadata": {},
          "output_type": "execute_result"
        }
      ],
      "source": [
        "import os\n",
        "import csv\n",
        "import shutil\n",
        "import pandas as pd\n",
        "\n",
        "pathFake = \"/content/noticias/fake/\"\n",
        "pathFakeMeta = \"/content/noticias/fake-meta-information/\"\n",
        "pathTrue = \"/content/noticias/true/\"\n",
        "pathTrueMeta = \"/content/noticias/true-meta-information/\"\n",
        "pathFakeRecogna = \"/content/noticias/FakeRecogna.xlsx\"\n",
        "\n",
        "# cria vetor para armazenar todas as noticias\n",
        "data = []\n",
        "\n",
        "# percorre todas as notícias falsas\n",
        "# obtem o texto, número e classe da noticía e meta informações como tema e data\n",
        "for nameFake in os.listdir(pathFake):\n",
        "    info = { \"text\":\"\",\"theme\": \"\",\"class\": \"fake\" }  \n",
        "    number = 0\n",
        "    with open(pathFake + nameFake, \"r\") as fakeFile:\n",
        "      number = nameFake.split(\".\")\n",
        "      content = \" \".join(line.strip() for line in fakeFile)\n",
        "      number = number[0]\n",
        "      info[\"text\"] = content.replace('|','')\n",
        "\n",
        "    if number:\n",
        "      nameFakeMeta = number + \"-meta\" + \".txt\"\n",
        "      with open(pathFakeMeta + nameFakeMeta, \"r\") as fakeMetaFile:\n",
        "        fakeMetaLines = fakeMetaFile.readlines()\n",
        "        info[\"theme\"] = fakeMetaLines[2].rstrip(\"\\n\")\n",
        "\n",
        "        if info[\"theme\"] == 'sociedade_cotidiano':\n",
        "          info[\"theme\"] = 'mundo'\n",
        "        if info[\"theme\"] == 'tv_celebridades':\n",
        "          info[\"theme\"] = 'entretenimento'\n",
        "\n",
        "        data.append(info)\n",
        "\n",
        "# percorre todas as notícias verdadeiras\n",
        "# obtem o texto, número e classe da noticía e meta informações como tema e data\n",
        "for nameTrue in os.listdir(pathTrue):\n",
        "    info = {  \"text\":\"\",\"theme\": \"\",\"class\": \"true\" }  \n",
        "    number = 0\n",
        "    with open(pathTrue + nameTrue, \"r\") as trueFile:\n",
        "      number = nameTrue.split(\".\")\n",
        "      content = \" \".join(line.strip() for line in trueFile)\n",
        "      number = number[0]\n",
        "      info[\"text\"] = content.replace('|','')\n",
        "\n",
        "    if number:\n",
        "      nameTrueMeta = number + \"-meta\" + \".txt\"\n",
        "      with open(pathTrueMeta + nameTrueMeta, \"r\") as trueMetaFile:\n",
        "        trueMetaLines = trueMetaFile.readlines()\n",
        "        info[\"theme\"] = trueMetaLines[2].rstrip(\"\\n\")\n",
        "\n",
        "        if info[\"theme\"] == 'sociedade_cotidiano':\n",
        "          info[\"theme\"] = 'mundo'\n",
        "        if info[\"theme\"] == 'tv_celebridades':\n",
        "          info[\"theme\"] = 'entretenimento'\n",
        "        data.append(info)\n",
        "\n",
        "# obtem dados do fakeRecogna\n",
        "excel_data = pd.read_excel(pathFakeRecogna)\n",
        "# Read the values of the file in the dataframe\n",
        "dfFakeRecogna = pd.DataFrame(excel_data, columns=['Noticia', 'Categoria', 'Data', 'Classe'])\n",
        "# Print the content\n",
        "\n",
        "dfFakeRecogna = dfFakeRecogna.dropna()\n",
        "dfFakeRecogna['Classe'] = dfFakeRecogna['Classe'].astype(int) \n",
        "dfFakeRecogna['Classe'] = dfFakeRecogna['Classe'].map({0:'fake', 1:'true'})\n",
        "\n",
        "for index, row in dfFakeRecogna.iterrows():\n",
        "  info = { \"text\":\"\",\"theme\": \"\",\"class\": \"fake\",  } \n",
        "  info[\"text\"] = str(row['Noticia']).replace('|','').replace(\"\\n\",'') .replace(\"\\r\",'').replace(\"\\r\\n\",'')  \n",
        "  info[\"theme\"] = row['Categoria']\n",
        "  info[\"class\"] = row['Classe']\n",
        "\n",
        "  if info[\"theme\"] == 'ciência':\n",
        "    info[\"theme\"] = 'ciencia_tecnologia'\n",
        "\n",
        "  data.append(info)\n",
        "\n",
        "# obtem os nomes das colunas\n",
        "keys = data[0].keys()\n",
        "\n",
        "# gera arquivo csv com todas as notícias\n",
        "with open('/content/noticias/todas_noticias.csv', 'w', encoding='utf8', newline='') as output_file:\n",
        "    dict_writer = csv.DictWriter(output_file, keys, delimiter=\"|\", quoting=csv.QUOTE_NONE, quotechar='', escapechar='\\\\')\n",
        "    dict_writer.writeheader()\n",
        "    dict_writer.writerows(data)\n",
        "\n",
        "# envia para um zip no drive\n",
        "!zip \"/content/drive/My Drive/TCC 2022/DESENVOLVIMENTO/todas_noticias.zip\" \"/content/noticias/todas_noticias.csv\"\n",
        "\n",
        "\n",
        "# copia para o drive\n",
        "shutil.copy(\"/content/noticias/todas_noticias.csv\",\"/content/drive/My Drive/TCC 2022/DESENVOLVIMENTO\")"
      ]
    },
    {
      "cell_type": "markdown",
      "metadata": {
        "id": "qIX3ByjDZ57Z"
      },
      "source": [
        "### Realiza os imports"
      ]
    },
    {
      "cell_type": "code",
      "execution_count": null,
      "metadata": {
        "colab": {
          "base_uri": "https://localhost:8080/"
        },
        "id": "CmAJjq_IuNbA",
        "outputId": "0bcd4814-e248-4bfb-9a99-9dc2a7665d3b"
      },
      "outputs": [
        {
          "output_type": "stream",
          "name": "stdout",
          "text": [
            "Looking in indexes: https://pypi.org/simple, https://us-python.pkg.dev/colab-wheels/public/simple/\n",
            "Collecting unidecode\n",
            "  Downloading Unidecode-1.3.6-py3-none-any.whl (235 kB)\n",
            "\u001b[K     |████████████████████████████████| 235 kB 6.7 MB/s \n",
            "\u001b[?25hInstalling collected packages: unidecode\n",
            "Successfully installed unidecode-1.3.6\n"
          ]
        }
      ],
      "source": [
        "!pip install unidecode"
      ]
    },
    {
      "cell_type": "code",
      "execution_count": null,
      "metadata": {
        "colab": {
          "base_uri": "https://localhost:8080/"
        },
        "id": "zGLl1QW_68ij",
        "outputId": "e184ffe3-bac4-4b7a-f1b3-440f824a13b7"
      },
      "outputs": [
        {
          "output_type": "stream",
          "name": "stderr",
          "text": [
            "[nltk_data] Downloading package stopwords to /root/nltk_data...\n",
            "[nltk_data]   Unzipping corpora/stopwords.zip.\n"
          ]
        }
      ],
      "source": [
        "import nltk\n",
        "from nltk.corpus import stopwords\n",
        "import pandas as pd\n",
        "import numpy as np\n",
        "import seaborn as sns\n",
        "import matplotlib.pyplot as plt\n",
        "from ast import literal_eval\n",
        "import re\n",
        "from collections import Counter\n",
        "from itertools import chain\n",
        "from sklearn.feature_extraction.text import CountVectorizer\n",
        "from sklearn.feature_extraction.text import TfidfVectorizer\n",
        "from sklearn.preprocessing import MultiLabelBinarizer\n",
        "from sklearn.multiclass import OneVsRestClassifier\n",
        "from sklearn.linear_model import LogisticRegression, RidgeClassifier\n",
        "from sklearn.metrics import accuracy_score\n",
        "from sklearn.metrics import f1_score\n",
        "from sklearn.metrics import roc_auc_score \n",
        "from sklearn.metrics import average_precision_score\n",
        "from sklearn.metrics import recall_score\n",
        "from sklearn.model_selection import train_test_split\n",
        "from sklearn.preprocessing import LabelBinarizer\n",
        "from sklearn.metrics import roc_curve\n",
        "from sklearn.compose import make_column_transformer\n",
        "from sklearn.preprocessing import OneHotEncoder\n",
        "from unidecode import unidecode\n",
        "import pickle\n",
        "import zipfile\n",
        "\n",
        "nltk.download('stopwords') # caso a lista esteja desatualizada\n",
        "%matplotlib inline"
      ]
    },
    {
      "cell_type": "markdown",
      "metadata": {
        "id": "onnmrggp7Rd0"
      },
      "source": [
        "### Função read_data"
      ]
    },
    {
      "cell_type": "code",
      "execution_count": null,
      "metadata": {
        "id": "q-LHyBne7Yhb"
      },
      "outputs": [],
      "source": [
        "# criando a função para ler o arquivo\n",
        "def read_data(filename):\n",
        "    \n",
        "    # importando o arquivo\n",
        "    data = pd.read_csv(filename, sep='|')\n",
        "       \n",
        "    # retornando o arquivo\n",
        "    return data"
      ]
    },
    {
      "cell_type": "markdown",
      "metadata": {
        "id": "GeMyOILV7lkk"
      },
      "source": [
        "### Função text_prepare"
      ]
    },
    {
      "cell_type": "code",
      "execution_count": null,
      "metadata": {
        "id": "SfwlL8h-7qbk"
      },
      "outputs": [],
      "source": [
        "# criando os objetos com as expressões regulares\n",
        "remove_espec_carac = re.compile('[/(){}\\[\\]\\|@,;]|( - )')\n",
        "remove_symb = re.compile('[^0-9a-z #+\\-_]')\n",
        "\n",
        "# criando um objeto para remoção de stopwords no idioma português\n",
        "listStopwords = stopwords.words('portuguese')\n",
        "\n",
        "# criando função para normalizar os textos\n",
        "def text_prepare(text):\n",
        "    \n",
        "    # normalizando o texto em letras minúsculas, assim facilita a preparação\n",
        "    text = text.lower()\n",
        "    \n",
        "    # substituindo caracteres especiais por espaços em branco\n",
        "    text = remove_espec_carac.sub(' ', text)\n",
        "    \n",
        "    # remove os acentos\n",
        "    text = unidecode(text) \n",
        "\n",
        "    # retornando apenas letras e números\n",
        "    text = remove_symb.sub('', text)\n",
        "    \n",
        "    # removendo as stopwords\n",
        "    text = ' '.join(word for word in text.split() if word not in listStopwords)\n",
        "    \n",
        "    # retornando o texto modificado\n",
        "    return text"
      ]
    },
    {
      "cell_type": "code",
      "execution_count": null,
      "metadata": {
        "colab": {
          "base_uri": "https://localhost:8080/"
        },
        "id": "erbejOyd7szC",
        "outputId": "6a0b1447-83ac-400c-a10a-bb6b87122459"
      },
      "outputs": [
        {
          "output_type": "stream",
          "name": "stdout",
          "text": [
            "Testes básicos aprovados.\n"
          ]
        }
      ],
      "source": [
        "# criando função para testar a normalização\n",
        "def test_text_prepare():\n",
        "    \n",
        "    # definindo os exemplos\n",
        "    examples = [\"Ele é hostilizado com ovada durante visita a Ribeirão Preto ** $ %\"]\n",
        "    \n",
        "    # inserindo a resposta correta\n",
        "    answers = [\"hostilizado ovada durante visita ribeirao preto\"]\n",
        "    \n",
        "    # Aplicando um loop e comparando a limpeza\n",
        "    for ex, ans in zip(examples, answers):\n",
        "        \n",
        "    # condições para retornar se o resultado foi aprovado ou reprovado\n",
        "        if text_prepare(ex) != ans:\n",
        "            return \"Resposta incorreta para: '%s' \\nEsperando: %s \\nObtido: %s\" % (ex,ans,text_prepare(ex))\n",
        "    return 'Testes básicos aprovados.'\n",
        "# rodando a função de teste\n",
        "print(test_text_prepare())"
      ]
    },
    {
      "cell_type": "markdown",
      "metadata": {
        "id": "L6LXZy0n8By0"
      },
      "source": [
        "### Pré-processamento"
      ]
    },
    {
      "cell_type": "code",
      "execution_count": null,
      "metadata": {
        "id": "YGoe6ZF8g6PZ"
      },
      "outputs": [],
      "source": [
        "zip_ref = zipfile.ZipFile(\"/content/drive/My Drive/TCC 2022/DESENVOLVIMENTO/todas_noticias.zip\", 'r')\n",
        "zip_ref.extractall(\"/content/noticias\")\n",
        "zip_ref.close()"
      ]
    },
    {
      "cell_type": "code",
      "execution_count": null,
      "metadata": {
        "colab": {
          "base_uri": "https://localhost:8080/"
        },
        "id": "KiiZ89jW8G_M",
        "outputId": "216bf5af-fb76-4a71-aac1-ca948a2bf324"
      },
      "outputs": [
        {
          "name": "stdout",
          "output_type": "stream",
          "text": [
            "O conjunto possui:\n",
            "18750 linhas\n",
            "3 colunas\n",
            "\n"
          ]
        }
      ],
      "source": [
        "# importando os dados\n",
        "df = read_data('/content/noticias/content/noticias/todas_noticias.csv')\n",
        "\n",
        "print(f\"O conjunto possui:\")\n",
        "print(f\"{df.shape[0]} linhas\")\n",
        "print(f\"{df.shape[1]} colunas\\n\")"
      ]
    },
    {
      "cell_type": "code",
      "execution_count": null,
      "metadata": {
        "colab": {
          "base_uri": "https://localhost:8080/",
          "height": 206
        },
        "id": "azVfNix49M97",
        "outputId": "589c85d5-709a-48e6-eaba-def5cea62d47"
      },
      "outputs": [
        {
          "data": {
            "text/html": [
              "\n",
              "  <div id=\"df-6f28e697-7284-49c2-96ac-96a6c2358961\">\n",
              "    <div class=\"colab-df-container\">\n",
              "      <div>\n",
              "<style scoped>\n",
              "    .dataframe tbody tr th:only-of-type {\n",
              "        vertical-align: middle;\n",
              "    }\n",
              "\n",
              "    .dataframe tbody tr th {\n",
              "        vertical-align: top;\n",
              "    }\n",
              "\n",
              "    .dataframe thead th {\n",
              "        text-align: right;\n",
              "    }\n",
              "</style>\n",
              "<table border=\"1\" class=\"dataframe\">\n",
              "  <thead>\n",
              "    <tr style=\"text-align: right;\">\n",
              "      <th></th>\n",
              "      <th>text</th>\n",
              "      <th>theme</th>\n",
              "      <th>class</th>\n",
              "    </tr>\n",
              "  </thead>\n",
              "  <tbody>\n",
              "    <tr>\n",
              "      <th>0</th>\n",
              "      <td>Caiu a máscara! Número de desempregados no paí...</td>\n",
              "      <td>economia</td>\n",
              "      <td>fake</td>\n",
              "    </tr>\n",
              "    <tr>\n",
              "      <th>1</th>\n",
              "      <td>Nova rebelião no Rio Grande do Norte. Presos q...</td>\n",
              "      <td>mundo</td>\n",
              "      <td>fake</td>\n",
              "    </tr>\n",
              "    <tr>\n",
              "      <th>2</th>\n",
              "      <td>Deputado diz que é contra a liberação das drog...</td>\n",
              "      <td>politica</td>\n",
              "      <td>fake</td>\n",
              "    </tr>\n",
              "    <tr>\n",
              "      <th>3</th>\n",
              "      <td>Caiu a máscara do Prof. Villa da Jovem Pan. Ví...</td>\n",
              "      <td>politica</td>\n",
              "      <td>fake</td>\n",
              "    </tr>\n",
              "    <tr>\n",
              "      <th>4</th>\n",
              "      <td>Lista com nomes dos parlamentares que \"assassi...</td>\n",
              "      <td>politica</td>\n",
              "      <td>fake</td>\n",
              "    </tr>\n",
              "  </tbody>\n",
              "</table>\n",
              "</div>\n",
              "      <button class=\"colab-df-convert\" onclick=\"convertToInteractive('df-6f28e697-7284-49c2-96ac-96a6c2358961')\"\n",
              "              title=\"Convert this dataframe to an interactive table.\"\n",
              "              style=\"display:none;\">\n",
              "        \n",
              "  <svg xmlns=\"http://www.w3.org/2000/svg\" height=\"24px\"viewBox=\"0 0 24 24\"\n",
              "       width=\"24px\">\n",
              "    <path d=\"M0 0h24v24H0V0z\" fill=\"none\"/>\n",
              "    <path d=\"M18.56 5.44l.94 2.06.94-2.06 2.06-.94-2.06-.94-.94-2.06-.94 2.06-2.06.94zm-11 1L8.5 8.5l.94-2.06 2.06-.94-2.06-.94L8.5 2.5l-.94 2.06-2.06.94zm10 10l.94 2.06.94-2.06 2.06-.94-2.06-.94-.94-2.06-.94 2.06-2.06.94z\"/><path d=\"M17.41 7.96l-1.37-1.37c-.4-.4-.92-.59-1.43-.59-.52 0-1.04.2-1.43.59L10.3 9.45l-7.72 7.72c-.78.78-.78 2.05 0 2.83L4 21.41c.39.39.9.59 1.41.59.51 0 1.02-.2 1.41-.59l7.78-7.78 2.81-2.81c.8-.78.8-2.07 0-2.86zM5.41 20L4 18.59l7.72-7.72 1.47 1.35L5.41 20z\"/>\n",
              "  </svg>\n",
              "      </button>\n",
              "      \n",
              "  <style>\n",
              "    .colab-df-container {\n",
              "      display:flex;\n",
              "      flex-wrap:wrap;\n",
              "      gap: 12px;\n",
              "    }\n",
              "\n",
              "    .colab-df-convert {\n",
              "      background-color: #E8F0FE;\n",
              "      border: none;\n",
              "      border-radius: 50%;\n",
              "      cursor: pointer;\n",
              "      display: none;\n",
              "      fill: #1967D2;\n",
              "      height: 32px;\n",
              "      padding: 0 0 0 0;\n",
              "      width: 32px;\n",
              "    }\n",
              "\n",
              "    .colab-df-convert:hover {\n",
              "      background-color: #E2EBFA;\n",
              "      box-shadow: 0px 1px 2px rgba(60, 64, 67, 0.3), 0px 1px 3px 1px rgba(60, 64, 67, 0.15);\n",
              "      fill: #174EA6;\n",
              "    }\n",
              "\n",
              "    [theme=dark] .colab-df-convert {\n",
              "      background-color: #3B4455;\n",
              "      fill: #D2E3FC;\n",
              "    }\n",
              "\n",
              "    [theme=dark] .colab-df-convert:hover {\n",
              "      background-color: #434B5C;\n",
              "      box-shadow: 0px 1px 3px 1px rgba(0, 0, 0, 0.15);\n",
              "      filter: drop-shadow(0px 1px 2px rgba(0, 0, 0, 0.3));\n",
              "      fill: #FFFFFF;\n",
              "    }\n",
              "  </style>\n",
              "\n",
              "      <script>\n",
              "        const buttonEl =\n",
              "          document.querySelector('#df-6f28e697-7284-49c2-96ac-96a6c2358961 button.colab-df-convert');\n",
              "        buttonEl.style.display =\n",
              "          google.colab.kernel.accessAllowed ? 'block' : 'none';\n",
              "\n",
              "        async function convertToInteractive(key) {\n",
              "          const element = document.querySelector('#df-6f28e697-7284-49c2-96ac-96a6c2358961');\n",
              "          const dataTable =\n",
              "            await google.colab.kernel.invokeFunction('convertToInteractive',\n",
              "                                                     [key], {});\n",
              "          if (!dataTable) return;\n",
              "\n",
              "          const docLinkHtml = 'Like what you see? Visit the ' +\n",
              "            '<a target=\"_blank\" href=https://colab.research.google.com/notebooks/data_table.ipynb>data table notebook</a>'\n",
              "            + ' to learn more about interactive tables.';\n",
              "          element.innerHTML = '';\n",
              "          dataTable['output_type'] = 'display_data';\n",
              "          await google.colab.output.renderOutput(dataTable, element);\n",
              "          const docLink = document.createElement('div');\n",
              "          docLink.innerHTML = docLinkHtml;\n",
              "          element.appendChild(docLink);\n",
              "        }\n",
              "      </script>\n",
              "    </div>\n",
              "  </div>\n",
              "  "
            ],
            "text/plain": [
              "                                                text     theme class\n",
              "0  Caiu a máscara! Número de desempregados no paí...  economia  fake\n",
              "1  Nova rebelião no Rio Grande do Norte. Presos q...     mundo  fake\n",
              "2  Deputado diz que é contra a liberação das drog...  politica  fake\n",
              "3  Caiu a máscara do Prof. Villa da Jovem Pan. Ví...  politica  fake\n",
              "4  Lista com nomes dos parlamentares que \"assassi...  politica  fake"
            ]
          },
          "execution_count": 14,
          "metadata": {},
          "output_type": "execute_result"
        }
      ],
      "source": [
        "df.head()"
      ]
    },
    {
      "cell_type": "code",
      "execution_count": null,
      "metadata": {
        "id": "hNhDZ67j9Ztb"
      },
      "outputs": [],
      "source": [
        "df['text'] = df['text'].apply(text_prepare)\n",
        "df['theme'] = df['theme'].apply(text_prepare)\n",
        "\n",
        "# montar dataframe de atributos básicos\n",
        "X = df[ [\"text\",\"theme\"] ]\n",
        "\n",
        "# montar dataframe de atributos alvos\n",
        "Y = df[ [\"class\"] ]\n",
        "\n",
        "# dividir dados em treino e test\n",
        "x_train, x_test, y_train, y_test = train_test_split( X, Y, test_size=0.3 )"
      ]
    },
    {
      "cell_type": "code",
      "execution_count": null,
      "metadata": {
        "colab": {
          "base_uri": "https://localhost:8080/",
          "height": 206
        },
        "id": "OuAzSdBc6X2R",
        "outputId": "00218362-807b-4f67-e85b-4523e6e737e0"
      },
      "outputs": [
        {
          "data": {
            "text/html": [
              "\n",
              "  <div id=\"df-30f0e324-35b4-476d-9de0-fd3452ad3cf5\">\n",
              "    <div class=\"colab-df-container\">\n",
              "      <div>\n",
              "<style scoped>\n",
              "    .dataframe tbody tr th:only-of-type {\n",
              "        vertical-align: middle;\n",
              "    }\n",
              "\n",
              "    .dataframe tbody tr th {\n",
              "        vertical-align: top;\n",
              "    }\n",
              "\n",
              "    .dataframe thead th {\n",
              "        text-align: right;\n",
              "    }\n",
              "</style>\n",
              "<table border=\"1\" class=\"dataframe\">\n",
              "  <thead>\n",
              "    <tr style=\"text-align: right;\">\n",
              "      <th></th>\n",
              "      <th>text</th>\n",
              "      <th>theme</th>\n",
              "      <th>class</th>\n",
              "    </tr>\n",
              "  </thead>\n",
              "  <tbody>\n",
              "    <tr>\n",
              "      <th>0</th>\n",
              "      <td>caiu mascara numero desempregados pais recorde...</td>\n",
              "      <td>economia</td>\n",
              "      <td>fake</td>\n",
              "    </tr>\n",
              "    <tr>\n",
              "      <th>1</th>\n",
              "      <td>nova rebeliao rio grande norte presos quebram ...</td>\n",
              "      <td>mundo</td>\n",
              "      <td>fake</td>\n",
              "    </tr>\n",
              "    <tr>\n",
              "      <th>2</th>\n",
              "      <td>deputado diz contra liberacao drogas explica r...</td>\n",
              "      <td>politica</td>\n",
              "      <td>fake</td>\n",
              "    </tr>\n",
              "    <tr>\n",
              "      <th>3</th>\n",
              "      <td>caiu mascara prof villa jovem pan video mostra...</td>\n",
              "      <td>politica</td>\n",
              "      <td>fake</td>\n",
              "    </tr>\n",
              "    <tr>\n",
              "      <th>4</th>\n",
              "      <td>lista nomes parlamentares assassinaram lava-ja...</td>\n",
              "      <td>politica</td>\n",
              "      <td>fake</td>\n",
              "    </tr>\n",
              "  </tbody>\n",
              "</table>\n",
              "</div>\n",
              "      <button class=\"colab-df-convert\" onclick=\"convertToInteractive('df-30f0e324-35b4-476d-9de0-fd3452ad3cf5')\"\n",
              "              title=\"Convert this dataframe to an interactive table.\"\n",
              "              style=\"display:none;\">\n",
              "        \n",
              "  <svg xmlns=\"http://www.w3.org/2000/svg\" height=\"24px\"viewBox=\"0 0 24 24\"\n",
              "       width=\"24px\">\n",
              "    <path d=\"M0 0h24v24H0V0z\" fill=\"none\"/>\n",
              "    <path d=\"M18.56 5.44l.94 2.06.94-2.06 2.06-.94-2.06-.94-.94-2.06-.94 2.06-2.06.94zm-11 1L8.5 8.5l.94-2.06 2.06-.94-2.06-.94L8.5 2.5l-.94 2.06-2.06.94zm10 10l.94 2.06.94-2.06 2.06-.94-2.06-.94-.94-2.06-.94 2.06-2.06.94z\"/><path d=\"M17.41 7.96l-1.37-1.37c-.4-.4-.92-.59-1.43-.59-.52 0-1.04.2-1.43.59L10.3 9.45l-7.72 7.72c-.78.78-.78 2.05 0 2.83L4 21.41c.39.39.9.59 1.41.59.51 0 1.02-.2 1.41-.59l7.78-7.78 2.81-2.81c.8-.78.8-2.07 0-2.86zM5.41 20L4 18.59l7.72-7.72 1.47 1.35L5.41 20z\"/>\n",
              "  </svg>\n",
              "      </button>\n",
              "      \n",
              "  <style>\n",
              "    .colab-df-container {\n",
              "      display:flex;\n",
              "      flex-wrap:wrap;\n",
              "      gap: 12px;\n",
              "    }\n",
              "\n",
              "    .colab-df-convert {\n",
              "      background-color: #E8F0FE;\n",
              "      border: none;\n",
              "      border-radius: 50%;\n",
              "      cursor: pointer;\n",
              "      display: none;\n",
              "      fill: #1967D2;\n",
              "      height: 32px;\n",
              "      padding: 0 0 0 0;\n",
              "      width: 32px;\n",
              "    }\n",
              "\n",
              "    .colab-df-convert:hover {\n",
              "      background-color: #E2EBFA;\n",
              "      box-shadow: 0px 1px 2px rgba(60, 64, 67, 0.3), 0px 1px 3px 1px rgba(60, 64, 67, 0.15);\n",
              "      fill: #174EA6;\n",
              "    }\n",
              "\n",
              "    [theme=dark] .colab-df-convert {\n",
              "      background-color: #3B4455;\n",
              "      fill: #D2E3FC;\n",
              "    }\n",
              "\n",
              "    [theme=dark] .colab-df-convert:hover {\n",
              "      background-color: #434B5C;\n",
              "      box-shadow: 0px 1px 3px 1px rgba(0, 0, 0, 0.15);\n",
              "      filter: drop-shadow(0px 1px 2px rgba(0, 0, 0, 0.3));\n",
              "      fill: #FFFFFF;\n",
              "    }\n",
              "  </style>\n",
              "\n",
              "      <script>\n",
              "        const buttonEl =\n",
              "          document.querySelector('#df-30f0e324-35b4-476d-9de0-fd3452ad3cf5 button.colab-df-convert');\n",
              "        buttonEl.style.display =\n",
              "          google.colab.kernel.accessAllowed ? 'block' : 'none';\n",
              "\n",
              "        async function convertToInteractive(key) {\n",
              "          const element = document.querySelector('#df-30f0e324-35b4-476d-9de0-fd3452ad3cf5');\n",
              "          const dataTable =\n",
              "            await google.colab.kernel.invokeFunction('convertToInteractive',\n",
              "                                                     [key], {});\n",
              "          if (!dataTable) return;\n",
              "\n",
              "          const docLinkHtml = 'Like what you see? Visit the ' +\n",
              "            '<a target=\"_blank\" href=https://colab.research.google.com/notebooks/data_table.ipynb>data table notebook</a>'\n",
              "            + ' to learn more about interactive tables.';\n",
              "          element.innerHTML = '';\n",
              "          dataTable['output_type'] = 'display_data';\n",
              "          await google.colab.output.renderOutput(dataTable, element);\n",
              "          const docLink = document.createElement('div');\n",
              "          docLink.innerHTML = docLinkHtml;\n",
              "          element.appendChild(docLink);\n",
              "        }\n",
              "      </script>\n",
              "    </div>\n",
              "  </div>\n",
              "  "
            ],
            "text/plain": [
              "                                                text     theme class\n",
              "0  caiu mascara numero desempregados pais recorde...  economia  fake\n",
              "1  nova rebeliao rio grande norte presos quebram ...     mundo  fake\n",
              "2  deputado diz contra liberacao drogas explica r...  politica  fake\n",
              "3  caiu mascara prof villa jovem pan video mostra...  politica  fake\n",
              "4  lista nomes parlamentares assassinaram lava-ja...  politica  fake"
            ]
          },
          "execution_count": 27,
          "metadata": {},
          "output_type": "execute_result"
        }
      ],
      "source": [
        "df.head()"
      ]
    },
    {
      "cell_type": "code",
      "execution_count": null,
      "metadata": {
        "colab": {
          "base_uri": "https://localhost:8080/"
        },
        "id": "V3ypyQdXka4l",
        "outputId": "cb5cea56-3c56-4e94-ade9-679102ddc31e"
      },
      "outputs": [
        {
          "name": "stdout",
          "output_type": "stream",
          "text": [
            "updating: content/noticias/preprocessadas/ (stored 0%)\n",
            "updating: content/noticias/preprocessadas/preprocessadas.csv (deflated 66%)\n"
          ]
        }
      ],
      "source": [
        "# salvando conjuntos preparados de noticias\n",
        "!mkdir /content/noticias/preprocessadas\n",
        "\n",
        "df.to_csv(\"/content/noticias/preprocessadas/preprocessadas.csv\", index=False, sep=\"|\")\n",
        "\n",
        "# envia para um zip no drive\n",
        "!zip -r \"/content/drive/My Drive/TCC 2022/DESENVOLVIMENTO/preprocessadas.zip\" \"/content/noticias/preprocessadas\""
      ]
    },
    {
      "cell_type": "code",
      "execution_count": null,
      "metadata": {
        "id": "9Vv4Ivu89w5x"
      },
      "outputs": [],
      "source": [
        "# # aplicando a função nos dados de treino\n",
        "# x_train['text'] = x_train['text'].apply(text_prepare)\n",
        "# x_train['theme'] = x_train['theme'].apply(text_prepare)\n",
        "\n",
        "# # aplicando a função nos dados de validação\n",
        "# x_test['text'] = x_test['text'].apply(text_prepare)\n",
        "# x_test['theme'] = x_test['theme'].apply(text_prepare)"
      ]
    },
    {
      "cell_type": "code",
      "execution_count": null,
      "metadata": {
        "colab": {
          "base_uri": "https://localhost:8080/"
        },
        "id": "ptx1bTWa-A6p",
        "outputId": "8284cd8c-b72d-400d-ec44-d5bf6673c9a9"
      },
      "outputs": [
        {
          "name": "stdout",
          "output_type": "stream",
          "text": [
            "updating: content/noticias/treino_teste/ (stored 0%)\n",
            "updating: content/noticias/treino_teste/noticias_classe_teste.csv (deflated 95%)\n",
            "updating: content/noticias/treino_teste/noticias_classe_treino.csv (deflated 95%)\n",
            "updating: content/noticias/treino_teste/noticias_teste.csv (deflated 65%)\n",
            "updating: content/noticias/treino_teste/noticias_treino.csv (deflated 65%)\n"
          ]
        }
      ],
      "source": [
        "# salvando conjuntos preparados de treino e teste\n",
        "!mkdir /content/noticias/treino_teste\n",
        "\n",
        "x_train.to_csv(\"/content/noticias/treino_teste/noticias_treino.csv\", index=False, sep=\"|\")\n",
        "x_test.to_csv(\"/content/noticias/treino_teste/noticias_teste.csv\", index=False, sep=\"|\")\n",
        "y_train.to_csv(\"/content/noticias/treino_teste/noticias_classe_treino.csv\", index=False, sep=\"|\")\n",
        "y_test.to_csv(\"/content/noticias/treino_teste/noticias_classe_teste.csv\", index=False, sep=\"|\")\n",
        "\n",
        "# envia para um zip no drive\n",
        "!zip -r \"/content/drive/My Drive/TCC 2022/DESENVOLVIMENTO/noticias_treino_teste.zip\" \"/content/noticias/treino_teste\""
      ]
    },
    {
      "cell_type": "markdown",
      "metadata": {
        "id": "l2xQhiLB-tuB"
      },
      "source": [
        "### Busca conjunto pré-processado"
      ]
    },
    {
      "cell_type": "code",
      "execution_count": null,
      "metadata": {
        "id": "pZmkLuC9-x34"
      },
      "outputs": [],
      "source": [
        "zip_ref = zipfile.ZipFile(\"/content/drive/My Drive/TCC 2022/DESENVOLVIMENTO/noticias_treino_teste.zip\", 'r')\n",
        "zip_ref.extractall(\"/content/treino_teste\")\n",
        "zip_ref.close()\n"
      ]
    },
    {
      "cell_type": "code",
      "execution_count": null,
      "metadata": {
        "id": "UIQa9x2A-2_R"
      },
      "outputs": [],
      "source": [
        "# Buscando conjuntos de treino e teste\n",
        "pathTreino = \"/content/treino_teste/content/noticias/treino_teste/noticias_treino.csv\"\n",
        "pathTeste = \"/content/treino_teste/content/noticias/treino_teste/noticias_teste.csv\"\n",
        "pathClasseTreino = \"/content/treino_teste/content/noticias/treino_teste/noticias_classe_treino.csv\"\n",
        "pathClasseTeste = \"/content/treino_teste/content/noticias/treino_teste/noticias_classe_teste.csv\"\n",
        "\n",
        "x_train = pd.read_csv(pathTreino, sep='|')\n",
        "x_test = pd.read_csv(pathTeste, sep='|')\n",
        "y_train = pd.read_csv(pathClasseTreino, sep='|')\n",
        "y_test = pd.read_csv(pathClasseTeste, sep='|')"
      ]
    },
    {
      "cell_type": "markdown",
      "metadata": {
        "id": "M0ONhnD-fiwd"
      },
      "source": [
        "### Gráficos"
      ]
    },
    {
      "cell_type": "code",
      "execution_count": null,
      "metadata": {
        "id": "1FpbFopdf5XL"
      },
      "outputs": [],
      "source": [
        "zip_ref = zipfile.ZipFile(\"/content/drive/My Drive/TCC 2022/DESENVOLVIMENTO/preprocessadas.zip\", 'r')\n",
        "zip_ref.extractall(\"/content/preprocessadas\")\n",
        "zip_ref.close()\n",
        "\n",
        "pathPreProcessadas = \"/content/preprocessadas/content/noticias/preprocessadas/preprocessadas.csv\"\n",
        "preprocessadas = pd.read_csv(pathPreProcessadas, sep='|')"
      ]
    },
    {
      "cell_type": "code",
      "execution_count": null,
      "metadata": {
        "colab": {
          "base_uri": "https://localhost:8080/",
          "height": 420
        },
        "id": "4CsRFODclk3o",
        "outputId": "9f31db05-369e-4ece-c808-6baeea79ac9a"
      },
      "outputs": [
        {
          "output_type": "display_data",
          "data": {
            "text/plain": [
              "<Figure size 720x432 with 1 Axes>"
            ],
            "image/png": "[encoded data removed]"
          },
          "metadata": {
            "needs_background": "light"
          }
        }
      ],
      "source": [
        "# realizando a contagem e inserindo em um dicionário\n",
        "all_words_counts = Counter(chain.from_iterable([i.split(\" \") for i in preprocessadas['text']]))\n",
        "# ordenando do maior para o menor\n",
        "all_words_freq = sorted(all_words_counts.items(), key=lambda x: x[1], reverse=True)\n",
        "# colocando as palavras em um objeto do tipo lista\n",
        "all_words_list = list(dict(all_words_freq[:10]).keys())\n",
        "# colocando as ocorrências em um objeto do tipo lista\n",
        "all_occur_list = list(dict(all_words_freq[:10]).values())\n",
        "\n",
        "# definindo a área de plotagem\n",
        "plt.figure(figsize=(10,6))\n",
        "# criando o gráfico\n",
        "ax = sns.barplot(x = all_words_list, y = all_occur_list)\n",
        "# inserindo o título\n",
        "# ax.set_title('10 palavras que mais aparecem em todo o conjunto')\n",
        "# rotacionando os rótulos do eixo x\n",
        "plt.xticks(rotation=30,size=16);\n",
        "plt.yticks(size=16);"
      ]
    },
    {
      "cell_type": "code",
      "execution_count": null,
      "metadata": {
        "colab": {
          "base_uri": "https://localhost:8080/",
          "height": 452
        },
        "id": "93hma7Jwl407",
        "outputId": "9bec05a5-345a-497e-d05a-1a3fce71a090"
      },
      "outputs": [
        {
          "output_type": "display_data",
          "data": {
            "text/plain": [
              "<Figure size 720x432 with 1 Axes>"
            ],
            "image/png": "[encoded data removed]"
          },
          "metadata": {
            "needs_background": "light"
          }
        }
      ],
      "source": [
        "# realizando a contagem e inserindo em um dicionário\n",
        "all_themes_counts = Counter(chain.from_iterable([i.split(\" \") for i in preprocessadas['theme']]))\n",
        "# ordenando do maior para o menor\n",
        "all_themes_freq = sorted(all_themes_counts.items(), key=lambda x: x[1], reverse=True)\n",
        "# colocando as palavras em um objeto do tipo lista\n",
        "all_themes_list = list(dict(all_themes_freq[:10]).keys())\n",
        "# colocando as ocorrências em um objeto do tipo lista\n",
        "all_occur_list = list(dict(all_themes_freq[:10]).values())\n",
        "\n",
        "# definindo a área de plotagem\n",
        "plt.figure(figsize=(10,6))\n",
        "# criando o gráfico\n",
        "ax = sns.barplot(x = all_themes_list, y = all_occur_list)\n",
        "# inserindo o título\n",
        "#ax.set_title('Distribuição dos temas em todo o conjunto')\n",
        "# rotacionando os rótulos do eixo x\n",
        "plt.xticks(rotation=30,size=16);\n",
        "plt.yticks(size=16);"
      ]
    },
    {
      "cell_type": "code",
      "execution_count": null,
      "metadata": {
        "colab": {
          "base_uri": "https://localhost:8080/",
          "height": 274
        },
        "id": "qqfJr-LVmYbW",
        "outputId": "ab29bc0f-63b9-494b-a269-63365fb5b68f"
      },
      "outputs": [
        {
          "output_type": "display_data",
          "data": {
            "text/plain": [
              "<Figure size 288x288 with 1 Axes>"
            ],
            "image/png": "[encoded data removed]"
          },
          "metadata": {
            "needs_background": "light"
          }
        }
      ],
      "source": [
        "# realizando a contagem e inserindo em um dicionário\n",
        "all_classes_count = Counter(preprocessadas[\"class\"])\n",
        "# ordenando do maior para o menor\n",
        "all_classes_freq = sorted(all_classes_count.items(), key=lambda x: x[1], reverse=True)\n",
        "# colocando as palavras em um objeto do tipo lista\n",
        "all_classes_list = list(dict(all_classes_freq).keys())\n",
        "# colocando as ocorrências em um objeto do tipo lista\n",
        "occur_list = list(dict(all_classes_freq).values())\n",
        "\n",
        "# definindo a área de plotagem\n",
        "plt.figure(figsize=(4,4))\n",
        "# criando o gráfico\n",
        "ax = sns.barplot(x = all_classes_list, y = occur_list)\n",
        "# inserindo o título\n",
        "#ax.set_title('Ocorrência de notícias')\n",
        "# rotacionando os rótulos do eixo x\n",
        "plt.yticks(size=14);\n",
        "plt.xticks(size=14);"
      ]
    },
    {
      "cell_type": "markdown",
      "metadata": {
        "id": "O2M-jPv2Cu2l"
      },
      "source": [
        "### Dicionário"
      ]
    },
    {
      "cell_type": "code",
      "execution_count": null,
      "metadata": {
        "colab": {
          "base_uri": "https://localhost:8080/"
        },
        "id": "fB91uMa8C23l",
        "outputId": "d97a6af8-1ed1-44fc-c216-67598e236347"
      },
      "outputs": [
        {
          "output_type": "display_data",
          "data": {
            "text/plain": [
              "<Figure size 720x432 with 1 Axes>"
            ],
            "image/png": "[encoded data removed]"
          },
          "metadata": {
            "needs_background": "light"
          }
        }
      ],
      "source": [
        "# realizando a contagem e inserindo em um dicionário\n",
        "words_counts = Counter(chain.from_iterable([i.split(\" \") for i in x_train['text']]))\n",
        "# ordenando do maior para o menor\n",
        "words_freq = sorted(words_counts.items(), key=lambda x: x[1], reverse=True)\n",
        "# colocando as palavras em um objeto do tipo lista\n",
        "words_list = list(dict(words_freq[:10]).keys())\n",
        "# colocando as ocorrências em um objeto do tipo lista\n",
        "occur_list = list(dict(words_freq[:10]).values())\n",
        "\n",
        "# definindo a área de plotagem\n",
        "plt.figure(figsize=(10,6))\n",
        "# criando o gráfico\n",
        "ax = sns.barplot(x = words_list, y = occur_list)\n",
        "# inserindo o título\n",
        "ax.set_title('TOP10 palavras que mais aparecem')\n",
        "# rotacionando os rótulos do eixo x\n",
        "plt.xticks(rotation=30);"
      ]
    },
    {
      "cell_type": "code",
      "execution_count": null,
      "metadata": {
        "colab": {
          "base_uri": "https://localhost:8080/"
        },
        "id": "5dqS3jg1C8p8",
        "outputId": "55acc6bb-74b0-4dea-f0d5-188bde4dcb21"
      },
      "outputs": [
        {
          "output_type": "display_data",
          "data": {
            "text/plain": [
              "<Figure size 720x432 with 1 Axes>"
            ],
            "image/png": "[encoded data removed]"
          },
          "metadata": {
            "needs_background": "light"
          }
        }
      ],
      "source": [
        "# realizando a contagem e inserindo em um dicionário\n",
        "classes_count = Counter(y_train[\"class\"])\n",
        "# ordenando do maior para o menor\n",
        "classes_freq = sorted(classes_count.items(), key=lambda x: x[1], reverse=True)\n",
        "# colocando as palavras em um objeto do tipo lista\n",
        "classes_list = list(dict(classes_freq).keys())\n",
        "# colocando as ocorrências em um objeto do tipo lista\n",
        "occur_list = list(dict(classes_freq).values())\n",
        "\n",
        "# definindo a área de plotagem\n",
        "plt.figure(figsize=(10,6))\n",
        "# criando o gráfico\n",
        "ax = sns.barplot(x = classes_list, y = occur_list)\n",
        "# inserindo o título\n",
        "ax.set_title('Ocorrencia de notícias')\n",
        "# rotacionando os rótulos do eixo x\n",
        "plt.xticks(rotation=30);"
      ]
    },
    {
      "cell_type": "code",
      "execution_count": null,
      "metadata": {
        "colab": {
          "base_uri": "https://localhost:8080/"
        },
        "id": "yp4SKHGTySO7",
        "outputId": "7d24f24c-3e8b-4de8-883f-11032624eb60"
      },
      "outputs": [
        {
          "output_type": "display_data",
          "data": {
            "text/plain": [
              "<Figure size 1440x432 with 1 Axes>"
            ],
            "image/png": "[encoded data removed]"
          },
          "metadata": {
            "needs_background": "light"
          }
        }
      ],
      "source": [
        "# realizando a contagem e inserindo em um dicionário\n",
        "theme_count = Counter(x_train[\"theme\"])\n",
        "# ordenando do maior para o menor\n",
        "theme_freq = sorted(theme_count.items(), key=lambda x: x[1], reverse=True)\n",
        "# colocando as palavras em um objeto do tipo lista\n",
        "theme_list = list(dict(theme_freq).keys())\n",
        "# colocando as ocorrências em um objeto do tipo lista\n",
        "occur_list = list(dict(theme_freq).values())\n",
        "\n",
        "# definindo a área de plotagem\n",
        "plt.figure(figsize=(20,6))\n",
        "# criando o gráfico\n",
        "ax = sns.barplot(x = theme_list, y = occur_list)\n",
        "# inserindo o título\n",
        "ax.set_title('Ocorrencia de notícias')\n",
        "# rotacionando os rótulos do eixo x\n",
        "plt.xticks(rotation=30);"
      ]
    },
    {
      "cell_type": "markdown",
      "metadata": {
        "id": "vNP-hPW2DnqO"
      },
      "source": [
        "### Bag of Words (BOW)"
      ]
    },
    {
      "cell_type": "code",
      "execution_count": null,
      "metadata": {
        "colab": {
          "base_uri": "https://localhost:8080/"
        },
        "id": "Vq3y1hxLDpOF",
        "outputId": "1c265de4-715d-4423-cd96-804c01ce892f"
      },
      "outputs": [
        {
          "output_type": "stream",
          "name": "stdout",
          "text": [
            "x_train shape: (13125, 5000)\n",
            "x_test shape:   (5625, 5000)\n"
          ]
        }
      ],
      "source": [
        "# definindo um limite\n",
        "max_features = 5000\n",
        "# instanciando o vetorizador\n",
        "vectorizer = CountVectorizer(max_features = max_features)\n",
        "# aplicando a transformação\n",
        "x_train_bow = vectorizer.fit_transform(x_train['text'])\n",
        "x_test_bow = vectorizer.transform(x_test['text'])\n",
        "# checando o shape\n",
        "print('x_train shape:', x_train_bow.shape)\n",
        "print('x_test shape:  ', x_test_bow.shape)"
      ]
    },
    {
      "cell_type": "code",
      "execution_count": null,
      "metadata": {
        "id": "DkHbFMlmET00"
      },
      "outputs": [],
      "source": [
        "# com a coluna tema\n",
        "enc = OneHotEncoder(handle_unknown='ignore')\n",
        "max_features = 5000\n",
        "vec = CountVectorizer(max_features = max_features)\n",
        "\n",
        "transf = make_column_transformer((vec, 'text'),(enc, ['theme']))\n",
        "\n",
        "x_train_bow = transf.fit_transform(x_train)\n",
        "# aplicando o modelo com transform aos dados de validação\n",
        "x_test_bow = transf.transform(x_test)"
      ]
    },
    {
      "cell_type": "markdown",
      "metadata": {
        "id": "o8jpfByJECCj"
      },
      "source": [
        "### TF-IDF - frequencias relativas"
      ]
    },
    {
      "cell_type": "markdown",
      "metadata": {
        "id": "R15xqNtVEHJ8"
      },
      "source": [
        "\n",
        "TF: term frequency ou termos frequentes\n",
        "\n",
        "IDF: inverse document-frequency ou frequencia de documento inversa"
      ]
    },
    {
      "cell_type": "code",
      "execution_count": null,
      "metadata": {
        "id": "dLtkiIbdEAL7"
      },
      "outputs": [],
      "source": [
        "# instanciando o tfidf\n",
        "tfidf_vec = TfidfVectorizer(token_pattern = '(\\S+)', min_df = 5, max_df = .9, ngram_range = (1,2))\n",
        "# aplicando o modelo com fit_transform aos dados de treino\n",
        "x_train_tfidf = tfidf_vec.fit_transform(x_train['text'])\n",
        "# aplicando o modelo com transform aos dados de validação\n",
        "x_test_tfidf = tfidf_vec.transform(x_test['text'])\n",
        "# coletando o palavras\n",
        "tfidf_vocab = tfidf_vec.vocabulary_\n",
        "# invertendo o dicionário para termos a quantidade como chaves\n",
        "tfidf_reversed_vocab = {i:word for word,i in tfidf_vocab.items()}"
      ]
    },
    {
      "cell_type": "code",
      "execution_count": null,
      "metadata": {
        "id": "z6RV7TrON2Ik"
      },
      "outputs": [],
      "source": [
        "# com a coluna tema\n",
        "\n",
        "enc = OneHotEncoder(handle_unknown='ignore')\n",
        "vec =  TfidfVectorizer(token_pattern = '(\\S+)', min_df = 5, max_df = .9, ngram_range = (1,2))\n",
        "\n",
        "transf = make_column_transformer((vec, 'text'),(enc, ['theme']))\n",
        "\n",
        "x_train_tfidf = transf.fit_transform(x_train)\n",
        "# aplicando o modelo com transform aos dados de validação\n",
        "x_test_tfidf = transf.transform(x_test)\n",
        "# coletando o palavras\n",
        "tfidf_vocab = transf.transformers_[0][1].vocabulary_\n",
        "# invertendo o dicionário para termos a quantidade como chaves\n",
        "tfidf_reversed_vocab = {i:word for word,i in tfidf_vocab.items()}"
      ]
    },
    {
      "cell_type": "code",
      "execution_count": null,
      "metadata": {
        "id": "GFFRrgENJ70H"
      },
      "outputs": [],
      "source": [
        "# #sem tema\n",
        "# #bow\n",
        "# bow = CountVectorizer(max_features = 5000)\n",
        "# x_train_bow = bow.fit_transform(x_train['text'])\n",
        "# x_test_bow = bow.transform(x_test['text'])\n",
        "# #tfidf\n",
        "# tfidf_vec = TfidfVectorizer(token_pattern = '(\\S+)', min_df = 5, max_df = .9,\n",
        "#                             ngram_range = (1,2))\n",
        "# x_train_tfidf = tfidf_vec.fit_transform(x_train['text'])\n",
        "# x_test_tfidf = tfidf_vec.transform(x_test['text'])\n",
        "\n",
        "# # com a coluna tema\n",
        "# enc = OneHotEncoder(handle_unknown='ignore')\n",
        "# #bow\n",
        "# bow = CountVectorizer(max_features = 5000)\n",
        "# transf_bow = make_column_transformer((bow, 'text'),(enc, ['theme']))\n",
        "# x_train_bow = transf_bow.fit_transform(x_train)\n",
        "# x_test_bow = transf_bow.transform(x_test)\n",
        "# #tfidf\n",
        "# tfidf =  TfidfVectorizer(token_pattern = '(\\S+)', min_df = 5, max_df = .9,\n",
        "#                          ngram_range = (1,2))\n",
        "# transf = make_column_transformer((tfidf, 'text'),(enc, ['theme']))\n",
        "# x_train_tfidf = transf.fit_transform(x_train)\n",
        "# x_test_tfidf = transf.transform(x_test)"
      ]
    },
    {
      "cell_type": "markdown",
      "metadata": {
        "id": "yu-Wthvh83Mm"
      },
      "source": [
        "### Testando modelos"
      ]
    },
    {
      "cell_type": "code",
      "execution_count": null,
      "metadata": {
        "id": "gFrrrDBw_H83"
      },
      "outputs": [],
      "source": [
        "# transformando as classes em 0 e 1\n",
        "lb = LabelBinarizer()\n",
        "\n",
        "y_train_bin = lb.fit_transform(y_train['class']).ravel()\n",
        "y_test_bin = lb.fit_transform(y_test['class']).ravel()"
      ]
    },
    {
      "cell_type": "markdown",
      "metadata": {
        "id": "N8AMteW5lL9B"
      },
      "source": [
        "#### MultinomialNB"
      ]
    },
    {
      "cell_type": "code",
      "execution_count": null,
      "metadata": {
        "colab": {
          "base_uri": "https://localhost:8080/"
        },
        "id": "WOXVoUH5i-gV",
        "outputId": "c497fdd1-d302-4a2d-ce21-c33a590ed153"
      },
      "outputs": [
        {
          "name": "stdout",
          "output_type": "stream",
          "text": [
            "score on test: 0.6312888888888889\n",
            "score on train: 0.6374095238095238\n"
          ]
        }
      ],
      "source": [
        "from sklearn.naive_bayes import MultinomialNB\n",
        "mnb = MultinomialNB().fit(x_train_bow, y_train_bin)\n",
        "print(\"score on test: \" + str(mnb.score(x_test_bow, y_test_bin)))\n",
        "print(\"score on train: \"+ str(mnb.score(x_train_bow, y_train_bin)))"
      ]
    },
    {
      "cell_type": "code",
      "execution_count": null,
      "metadata": {
        "colab": {
          "base_uri": "https://localhost:8080/"
        },
        "id": "V7CXQL0e_y9_",
        "outputId": "acf5a0e0-abd5-464d-e473-58237a432e40"
      },
      "outputs": [
        {
          "name": "stdout",
          "output_type": "stream",
          "text": [
            "score on test: 0.864\n",
            "score on train: 0.9059809523809523\n"
          ]
        }
      ],
      "source": [
        "from sklearn.naive_bayes import MultinomialNB\n",
        "mnb = MultinomialNB().fit(x_train_tfidf, y_train_bin)\n",
        "print(\"score on test: \" + str(mnb.score(x_test_tfidf, y_test_bin)))\n",
        "print(\"score on train: \"+ str(mnb.score(x_train_tfidf, y_train_bin)))"
      ]
    },
    {
      "cell_type": "markdown",
      "metadata": {
        "id": "61Gjg_-9lZQz"
      },
      "source": [
        "#### LogisticRegression"
      ]
    },
    {
      "cell_type": "code",
      "execution_count": null,
      "metadata": {
        "colab": {
          "base_uri": "https://localhost:8080/",
          "height": 244
        },
        "id": "vzgHRGsyk8sh",
        "outputId": "7c1df299-a68d-47ca-d94a-432d25642187"
      },
      "outputs": [
        {
          "ename": "NameError",
          "evalue": "ignored",
          "output_type": "error",
          "traceback": [
            "\u001b[0;31m---------------------------------------------------------------------------\u001b[0m",
            "\u001b[0;31mNameError\u001b[0m                                 Traceback (most recent call last)",
            "\u001b[0;32m<ipython-input-22-12d7f54039bc>\u001b[0m in \u001b[0;36m<module>\u001b[0;34m\u001b[0m\n\u001b[1;32m      1\u001b[0m \u001b[0;32mfrom\u001b[0m \u001b[0msklearn\u001b[0m\u001b[0;34m.\u001b[0m\u001b[0mlinear_model\u001b[0m \u001b[0;32mimport\u001b[0m \u001b[0mLogisticRegression\u001b[0m\u001b[0;34m\u001b[0m\u001b[0;34m\u001b[0m\u001b[0m\n\u001b[1;32m      2\u001b[0m \u001b[0mlr\u001b[0m\u001b[0;34m=\u001b[0m\u001b[0mLogisticRegression\u001b[0m\u001b[0;34m(\u001b[0m\u001b[0mmax_iter\u001b[0m\u001b[0;34m=\u001b[0m\u001b[0;36m5000\u001b[0m\u001b[0;34m)\u001b[0m\u001b[0;34m\u001b[0m\u001b[0;34m\u001b[0m\u001b[0m\n\u001b[0;32m----> 3\u001b[0;31m \u001b[0mlr\u001b[0m\u001b[0;34m.\u001b[0m\u001b[0mfit\u001b[0m\u001b[0;34m(\u001b[0m\u001b[0mx_train_bow\u001b[0m\u001b[0;34m,\u001b[0m \u001b[0my_train_bin\u001b[0m\u001b[0;34m)\u001b[0m\u001b[0;34m\u001b[0m\u001b[0;34m\u001b[0m\u001b[0m\n\u001b[0m\u001b[1;32m      4\u001b[0m \u001b[0mprint\u001b[0m\u001b[0;34m(\u001b[0m\u001b[0;34m\"score on test: \"\u001b[0m \u001b[0;34m+\u001b[0m \u001b[0mstr\u001b[0m\u001b[0;34m(\u001b[0m\u001b[0mlr\u001b[0m\u001b[0;34m.\u001b[0m\u001b[0mscore\u001b[0m\u001b[0;34m(\u001b[0m\u001b[0mx_test_bow\u001b[0m\u001b[0;34m,\u001b[0m \u001b[0my_test_bin\u001b[0m\u001b[0;34m)\u001b[0m\u001b[0;34m)\u001b[0m\u001b[0;34m)\u001b[0m\u001b[0;34m\u001b[0m\u001b[0;34m\u001b[0m\u001b[0m\n\u001b[1;32m      5\u001b[0m \u001b[0mprint\u001b[0m\u001b[0;34m(\u001b[0m\u001b[0;34m\"score on train: \"\u001b[0m\u001b[0;34m+\u001b[0m \u001b[0mstr\u001b[0m\u001b[0;34m(\u001b[0m\u001b[0mlr\u001b[0m\u001b[0;34m.\u001b[0m\u001b[0mscore\u001b[0m\u001b[0;34m(\u001b[0m\u001b[0mx_train_bow\u001b[0m\u001b[0;34m,\u001b[0m \u001b[0my_train_bin\u001b[0m\u001b[0;34m)\u001b[0m\u001b[0;34m)\u001b[0m\u001b[0;34m)\u001b[0m\u001b[0;34m\u001b[0m\u001b[0;34m\u001b[0m\u001b[0m\n",
            "\u001b[0;31mNameError\u001b[0m: name 'x_train_bow' is not defined"
          ]
        }
      ],
      "source": [
        "from sklearn.linear_model import LogisticRegression\n",
        "lr=LogisticRegression(max_iter=5000)\n",
        "lr.fit(x_train_bow, y_train_bin)\n",
        "print(\"score on test: \" + str(lr.score(x_test_bow, y_test_bin)))\n",
        "print(\"score on train: \"+ str(lr.score(x_train_bow, y_train_bin)))"
      ]
    },
    {
      "cell_type": "code",
      "execution_count": null,
      "metadata": {
        "colab": {
          "base_uri": "https://localhost:8080/"
        },
        "id": "6Fn1WzO-AJ72",
        "outputId": "7903fce7-3dd2-4dc2-fb53-b70dc2f5c738"
      },
      "outputs": [
        {
          "name": "stdout",
          "output_type": "stream",
          "text": [
            "score on test: 0.9413333333333334\n",
            "score on train: 0.9658666666666667\n"
          ]
        }
      ],
      "source": [
        "from sklearn.linear_model import LogisticRegression\n",
        "lr=LogisticRegression(max_iter=5000)\n",
        "lr.fit(x_train_tfidf, y_train_bin)\n",
        "print(\"score on test: \" + str(lr.score(x_test_tfidf, y_test_bin)))\n",
        "print(\"score on train: \"+ str(lr.score(x_train_tfidf, y_train_bin)))"
      ]
    },
    {
      "cell_type": "markdown",
      "metadata": {
        "id": "wAnp4CO2ljjl"
      },
      "source": [
        "#### KNeighborsClassifier"
      ]
    },
    {
      "cell_type": "code",
      "execution_count": null,
      "metadata": {
        "colab": {
          "base_uri": "https://localhost:8080/"
        },
        "id": "_G71Ziw6krRN",
        "outputId": "164a5576-0eb8-48d0-833d-a2c0d35cfefc"
      },
      "outputs": [
        {
          "name": "stdout",
          "output_type": "stream",
          "text": [
            "train shape: (13125, 5008)\n",
            "score on test: 0.6855111111111111\n",
            "score on train: 0.772647619047619\n"
          ]
        }
      ],
      "source": [
        "from sklearn.neighbors import KNeighborsClassifier\n",
        "knn = KNeighborsClassifier(algorithm = 'brute', n_jobs=-1)\n",
        "knn.fit(x_train_bow, y_train_bin)\n",
        "print(\"train shape: \" + str(x_train_bow.shape))\n",
        "print(\"score on test: \" + str(knn.score(x_test_bow, y_test_bin)))\n",
        "print(\"score on train: \"+ str(knn.score(x_train_bow, y_train_bin)))"
      ]
    },
    {
      "cell_type": "code",
      "execution_count": null,
      "metadata": {
        "colab": {
          "base_uri": "https://localhost:8080/"
        },
        "id": "MwEKfiJmASJ2",
        "outputId": "417cb438-f7c4-41d8-8da0-83ac97404568"
      },
      "outputs": [
        {
          "name": "stdout",
          "output_type": "stream",
          "text": [
            "train shape: (13125, 70616)\n",
            "score on test: 0.8250666666666666\n",
            "score on train: 0.8837333333333334\n"
          ]
        }
      ],
      "source": [
        "from sklearn.neighbors import KNeighborsClassifier\n",
        "knn = KNeighborsClassifier(algorithm = 'brute', n_jobs=-1)\n",
        "knn.fit(x_train_tfidf, y_train_bin)\n",
        "print(\"train shape: \" + str(x_train_tfidf.shape))\n",
        "print(\"score on test: \" + str(knn.score(x_test_tfidf, y_test_bin)))\n",
        "print(\"score on train: \"+ str(knn.score(x_train_tfidf, y_train_bin)))"
      ]
    },
    {
      "cell_type": "markdown",
      "metadata": {
        "id": "0Iwr9PMplsjB"
      },
      "source": [
        "#### LinearSVC"
      ]
    },
    {
      "cell_type": "code",
      "execution_count": null,
      "metadata": {
        "colab": {
          "base_uri": "https://localhost:8080/"
        },
        "id": "YBGO_8ySkjhU",
        "outputId": "6788579a-06ad-46d9-c94a-9894556060e2"
      },
      "outputs": [
        {
          "name": "stdout",
          "output_type": "stream",
          "text": [
            "score on test: 0.9168\n",
            "score on train: 0.9259428571428572\n"
          ]
        }
      ],
      "source": [
        "from sklearn.svm import LinearSVC\n",
        "svm=LinearSVC(C=0.0001)\n",
        "svm.fit(x_train_bow, y_train_bin)\n",
        "print(\"score on test: \" + str(svm.score(x_test_bow, y_test_bin)))\n",
        "print(\"score on train: \"+ str(svm.score(x_train_bow, y_train_bin)))"
      ]
    },
    {
      "cell_type": "code",
      "execution_count": null,
      "metadata": {
        "colab": {
          "base_uri": "https://localhost:8080/"
        },
        "id": "Au35ewHaBYeX",
        "outputId": "986aa13d-38d3-4954-bdf3-07401c9a69dc"
      },
      "outputs": [
        {
          "name": "stdout",
          "output_type": "stream",
          "text": [
            "score on test: 0.6446222222222222\n",
            "score on train: 0.6454095238095238\n"
          ]
        }
      ],
      "source": [
        "from sklearn.svm import LinearSVC\n",
        "svm=LinearSVC(C=0.0001)\n",
        "svm.fit(x_train_tfidf, y_train_bin)\n",
        "print(\"score on test: \" + str(svm.score(x_test_tfidf, y_test_bin)))\n",
        "print(\"score on train: \"+ str(svm.score(x_train_tfidf, y_train_bin)))"
      ]
    },
    {
      "cell_type": "code",
      "source": [
        "modelos = ['MultinomialNB','LogisticRegression','KNeighborsClassifier','LinearSVC','DecisionTreeClassifier','BaggingClassifier','AdaBoostClassifier','RandomForestClassifier','VotingClassifier']\n",
        "treino =     [0.89,0.97,0.92,0.63,1.00,0.96,0.91,0.84,0.96]\n",
        "treinoTema = [0.91,0.97,0.88,0.65,1.00,0.97,0.92,0.86,0.96]\n",
        "teste =      [0.83,0.93,0.79,0.64,0.85,0.89,0.89,0.81,0.92]\n",
        "testeTema =  [0.86,0.94,0.83,0.64,0.87,0.90,0.89,0.83,0.92]\n",
        "\n",
        "plt.plot(modelos, treino, label = 'Treino sem Tema')\n",
        "plt.plot(modelos, treinoTema, label = 'Treino com Tema')\n",
        "plt.plot(modelos, teste, label = 'Teste sem Tema')\n",
        "plt.plot(modelos, testeTema, label = 'Teste com Tema')\n",
        "plt.yticks(size=14)\n",
        "plt.xticks(rotation=90, size=14)\n",
        "plt.legend()\n",
        "plt.show()"
      ],
      "metadata": {
        "colab": {
          "base_uri": "https://localhost:8080/",
          "height": 421
        },
        "id": "fWZMFjMq3Wmq",
        "outputId": "695992e6-be5e-460e-fc65-9fbc81d7d953"
      },
      "execution_count": null,
      "outputs": [
        {
          "output_type": "display_data",
          "data": {
            "text/plain": [
              "<Figure size 432x288 with 1 Axes>"
            ],
            "image/png": "[encoded data removed]"
          },
          "metadata": {
            "needs_background": "light"
          }
        }
      ]
    },
    {
      "cell_type": "markdown",
      "metadata": {
        "id": "_-nM3HXWlu33"
      },
      "source": [
        "#### DecisionTreeClassifier"
      ]
    },
    {
      "cell_type": "code",
      "execution_count": null,
      "metadata": {
        "colab": {
          "base_uri": "https://localhost:8080/"
        },
        "id": "xy5_TP7Ij6Vg",
        "outputId": "3d4cc24d-bae8-4cf5-c5da-cc4a04c904ce"
      },
      "outputs": [
        {
          "name": "stdout",
          "output_type": "stream",
          "text": [
            "score on test: 0.8673777777777778\n",
            "score on train: 1.0\n"
          ]
        }
      ],
      "source": [
        "from sklearn.tree import DecisionTreeClassifier\n",
        "clf = DecisionTreeClassifier()\n",
        "clf.fit(x_train_bow, y_train_bin)\n",
        "print(\"score on test: \"  + str(clf.score(x_test_bow, y_test_bin)))\n",
        "print(\"score on train: \" + str(clf.score(x_train_bow, y_train_bin)))"
      ]
    },
    {
      "cell_type": "code",
      "execution_count": null,
      "metadata": {
        "colab": {
          "base_uri": "https://localhost:8080/"
        },
        "id": "3GAj0TnEBd4l",
        "outputId": "f0d374b1-17e4-4c8a-b40b-9e63a4ba1633"
      },
      "outputs": [
        {
          "name": "stdout",
          "output_type": "stream",
          "text": [
            "score on test: 0.8641777777777778\n",
            "score on train: 1.0\n"
          ]
        }
      ],
      "source": [
        "from sklearn.tree import DecisionTreeClassifier\n",
        "clf = DecisionTreeClassifier()\n",
        "clf.fit(x_train_tfidf, y_train_bin)\n",
        "print(\"score on test: \"  + str(clf.score(x_test_tfidf, y_test_bin)))\n",
        "print(\"score on train: \" + str(clf.score(x_train_tfidf, y_train_bin)))"
      ]
    },
    {
      "cell_type": "markdown",
      "metadata": {
        "id": "Po-G89YTlw3h"
      },
      "source": [
        "#### BaggingClassifier"
      ]
    },
    {
      "cell_type": "code",
      "execution_count": null,
      "metadata": {
        "colab": {
          "base_uri": "https://localhost:8080/"
        },
        "id": "12oasCpHma-c",
        "outputId": "9193ee7b-e7c5-4644-8fc7-72af75093f87"
      },
      "outputs": [
        {
          "name": "stdout",
          "output_type": "stream",
          "text": [
            "score on test: 0.9034666666666666\n",
            "score on train: 0.9668571428571429\n"
          ]
        }
      ],
      "source": [
        "from sklearn.ensemble import BaggingClassifier\n",
        "from sklearn.tree import DecisionTreeClassifier\n",
        "# max_samples: maximum size 0.5=50% of each sample taken from the full dataset\n",
        "# max_features: maximum of features 1=100% taken here all 10K \n",
        "# n_estimators: number of decision trees \n",
        "bg=BaggingClassifier(DecisionTreeClassifier(),max_samples=0.5,max_features=1.0,n_estimators=10)\n",
        "bg.fit(x_train_bow, y_train_bin)\n",
        "print(\"score on test: \" + str(bg.score(x_test_bow, y_test_bin)))\n",
        "print(\"score on train: \"+ str(bg.score(x_train_bow, y_train_bin)))"
      ]
    },
    {
      "cell_type": "code",
      "execution_count": null,
      "metadata": {
        "colab": {
          "base_uri": "https://localhost:8080/"
        },
        "id": "YfJlVvcOBkb1",
        "outputId": "dfac4ca1-03a2-41cf-fece-fb4ac1eb5e90"
      },
      "outputs": [
        {
          "name": "stdout",
          "output_type": "stream",
          "text": [
            "score on test: 0.8984888888888889\n",
            "score on train: 0.9661714285714286\n"
          ]
        }
      ],
      "source": [
        "from sklearn.ensemble import BaggingClassifier\n",
        "from sklearn.tree import DecisionTreeClassifier\n",
        "# max_samples: maximum size 0.5=50% of each sample taken from the full dataset\n",
        "# max_features: maximum of features 1=100% taken here all 10K \n",
        "# n_estimators: number of decision trees \n",
        "bg=BaggingClassifier(DecisionTreeClassifier(),max_samples=0.5,max_features=1.0,n_estimators=10)\n",
        "bg.fit(x_train_tfidf, y_train_bin)\n",
        "print(\"score on test: \" + str(bg.score(x_test_tfidf, y_test_bin)))\n",
        "print(\"score on train: \"+ str(bg.score(x_train_tfidf, y_train_bin)))"
      ]
    },
    {
      "cell_type": "markdown",
      "metadata": {
        "id": "LfK6eDSElz5q"
      },
      "source": [
        "#### AdaBoostClassifier"
      ]
    },
    {
      "cell_type": "code",
      "execution_count": null,
      "metadata": {
        "colab": {
          "base_uri": "https://localhost:8080/"
        },
        "id": "wUCpxjXBnRsI",
        "outputId": "3e2bd8f4-f79e-4229-c161-c9b5a2528a7e"
      },
      "outputs": [
        {
          "name": "stdout",
          "output_type": "stream",
          "text": [
            "score on test: 0.8917333333333334\n",
            "score on train: 0.9132190476190476\n"
          ]
        }
      ],
      "source": [
        "#+- analisar parametros\n",
        "from sklearn.ensemble import AdaBoostClassifier\n",
        "from sklearn.tree import DecisionTreeClassifier\n",
        "adb = AdaBoostClassifier(DecisionTreeClassifier(min_samples_split=10,max_depth=4),n_estimators=10,learning_rate=0.6)\n",
        "adb.fit(x_train_bow, y_train_bin)\n",
        "print(\"score on test: \" + str(adb.score(x_test_bow, y_test_bin)))\n",
        "print(\"score on train: \"+ str(adb.score(x_train_bow, y_train_bin)))"
      ]
    },
    {
      "cell_type": "code",
      "execution_count": null,
      "metadata": {
        "colab": {
          "base_uri": "https://localhost:8080/"
        },
        "id": "3x3sw_ChBuCM",
        "outputId": "d5c65889-b980-4a0d-e0a3-23e26059bd56"
      },
      "outputs": [
        {
          "name": "stdout",
          "output_type": "stream",
          "text": [
            "score on test: 0.8958222222222222\n",
            "score on train: 0.9161904761904762\n"
          ]
        }
      ],
      "source": [
        "#+- analisar parametros\n",
        "from sklearn.ensemble import AdaBoostClassifier\n",
        "from sklearn.tree import DecisionTreeClassifier\n",
        "adb = AdaBoostClassifier(DecisionTreeClassifier(min_samples_split=10,max_depth=4),n_estimators=10,learning_rate=0.6)\n",
        "adb.fit(x_train_tfidf, y_train_bin)\n",
        "print(\"score on test: \" + str(adb.score(x_test_tfidf, y_test_bin)))\n",
        "print(\"score on train: \"+ str(adb.score(x_train_tfidf, y_train_bin)))"
      ]
    },
    {
      "cell_type": "markdown",
      "metadata": {
        "id": "FfEZqhqfl1yR"
      },
      "source": [
        "#### RandomForestClassifier"
      ]
    },
    {
      "cell_type": "code",
      "execution_count": null,
      "metadata": {
        "colab": {
          "base_uri": "https://localhost:8080/"
        },
        "id": "nJhC1aD5nVvh",
        "outputId": "2e65430f-17c8-47c0-a632-f11112de1dba"
      },
      "outputs": [
        {
          "name": "stdout",
          "output_type": "stream",
          "text": [
            "score on test: 0.8666666666666667\n",
            "score on train: 0.889752380952381\n"
          ]
        }
      ],
      "source": [
        "from sklearn.ensemble import RandomForestClassifier\n",
        "# n_estimators = number of decision trees\n",
        "rf = RandomForestClassifier(n_estimators=30, max_depth=9)\n",
        "rf.fit(x_train_bow, y_train_bin)\n",
        "print(\"score on test: \" + str(rf.score(x_test_bow, y_test_bin)))\n",
        "print(\"score on train: \"+ str(rf.score(x_train_bow, y_train_bin)))"
      ]
    },
    {
      "cell_type": "code",
      "execution_count": null,
      "metadata": {
        "colab": {
          "base_uri": "https://localhost:8080/"
        },
        "id": "EaGngmRI9noP",
        "outputId": "40526f23-fdf5-4f2e-8fde-2f136ede6ec2"
      },
      "outputs": [
        {
          "name": "stdout",
          "output_type": "stream",
          "text": [
            "score on test: 0.8392888888888889\n",
            "score on train: 0.8671238095238095\n"
          ]
        }
      ],
      "source": [
        "from sklearn.ensemble import RandomForestClassifier\n",
        "# n_estimators = number of decision trees\n",
        "rf = RandomForestClassifier(n_estimators=30, max_depth=9)\n",
        "rf.fit(x_train_tfidf, y_train_bin)\n",
        "print(\"score on test: \" + str(rf.score(x_test_tfidf, y_test_bin)))\n",
        "print(\"score on train: \"+ str(rf.score(x_train_tfidf, y_train_bin)))"
      ]
    },
    {
      "cell_type": "markdown",
      "metadata": {
        "id": "HjiGwHhll4NZ"
      },
      "source": [
        "#### VotingClassifier"
      ]
    },
    {
      "cell_type": "code",
      "execution_count": null,
      "metadata": {
        "colab": {
          "base_uri": "https://localhost:8080/"
        },
        "id": "MnfS34ednoxh",
        "outputId": "ac9ff7cc-3c91-4d6e-d97a-4f8a18404605"
      },
      "outputs": [
        {
          "name": "stdout",
          "output_type": "stream",
          "text": [
            "score on test: 0.8842666666666666\n",
            "score on train: 0.9133714285714286\n"
          ]
        }
      ],
      "source": [
        "from sklearn.ensemble import VotingClassifier\n",
        "# 1) naive bayes = mnb\n",
        "# 2) logistic regression =lr\n",
        "# 3) random forest =rf\n",
        "# 4) support vector machine = svm\n",
        "evc=VotingClassifier(estimators=[('mnb',mnb),('lr',lr),('rf',rf),('svm',svm)],voting='hard')\n",
        "evc.fit(x_train_bow, y_train_bin)\n",
        "print(\"score on test: \" + str(evc.score(x_test_bow, y_test_bin)))\n",
        "print(\"score on train: \"+ str(evc.score(x_train_bow, y_train_bin)))"
      ]
    },
    {
      "cell_type": "code",
      "execution_count": null,
      "metadata": {
        "colab": {
          "base_uri": "https://localhost:8080/"
        },
        "id": "5zJmSPwL9bAx",
        "outputId": "e7a4b7ad-f55b-403e-da71-4bdd44f02bdc"
      },
      "outputs": [
        {
          "name": "stdout",
          "output_type": "stream",
          "text": [
            "score on test: 0.9278222222222222\n",
            "score on train: 0.9571047619047619\n"
          ]
        }
      ],
      "source": [
        "from sklearn.ensemble import VotingClassifier\n",
        "# 1) naive bayes = mnb\n",
        "# 2) logistic regression =lr\n",
        "# 3) random forest =rf\n",
        "# 4) support vector machine = svm\n",
        "evc=VotingClassifier(estimators=[('mnb',mnb),('lr',lr),('rf',rf),('svm',svm)],voting='hard')\n",
        "evc.fit(x_train_tfidf, y_train_bin)\n",
        "print(\"score on test: \" + str(evc.score(x_test_tfidf, y_test_bin)))\n",
        "print(\"score on train: \"+ str(evc.score(x_train_tfidf, y_train_bin)))"
      ]
    },
    {
      "cell_type": "markdown",
      "metadata": {
        "id": "KeVBh0ufE0bj"
      },
      "source": [
        "### Função train_classifier"
      ]
    },
    {
      "cell_type": "code",
      "execution_count": null,
      "metadata": {
        "id": "AnCJpynUE8l9"
      },
      "outputs": [],
      "source": [
        "from sklearn.naive_bayes import MultinomialNB\n",
        "from sklearn.linear_model import LogisticRegression\n",
        "from sklearn.tree import DecisionTreeClassifier\n",
        "from sklearn.ensemble import BaggingClassifier\n",
        "from sklearn.tree import DecisionTreeClassifier\n",
        "from sklearn.ensemble import RandomForestClassifier\n",
        "\n",
        "\n",
        "# criando a função\n",
        "def train_classifier(x_train, y_train, C=2.5, penalty='l2'):\n",
        "\n",
        "    # logreg = LogisticRegression(C=C, penalty=penalty, max_iter=5000)\n",
        "    # one_vs_rest = OneVsRestClassifier(logreg).fit(x_train, y_train)\n",
        "    # return one_vs_rest\n",
        "\n",
        "    \n",
        "    # mnb = MultinomialNB().fit(x_train, y_train)\n",
        "    # return mnb\n",
        "\n",
        "    lr=LogisticRegression(max_iter=5000)\n",
        "    lr.fit(x_train, y_train)\n",
        "    return lr\n",
        "\n",
        "    # clf = DecisionTreeClassifier()\n",
        "    # clf.fit(x_train, y_train)\n",
        "    # return clf\n",
        "\n",
        "    # max_samples: maximum size 0.5=50% of each sample taken from the full dataset\n",
        "    # max_features: maximum of features 1=100% taken here all 10K \n",
        "    # n_estimators: number of decision trees \n",
        "    # bg=BaggingClassifier(DecisionTreeClassifier(),max_samples=0.5,max_features=1.0,n_estimators=10)\n",
        "    # bg.fit(x_train, y_train)\n",
        "    # return bg\n",
        "\n",
        "    # adb = AdaBoostClassifier(DecisionTreeClassifier(min_samples_split=10,max_depth=4),n_estimators=10,learning_rate=0.6)\n",
        "    # adb.fit(x_train, y_train)\n",
        "    # return adb\n",
        "\n",
        "    # n_estimators = number of decision trees\n",
        "    # rf = RandomForestClassifier(n_estimators=30, max_depth=9)\n",
        "    # rf.fit(x_train, y_train)\n",
        "    # return rf"
      ]
    },
    {
      "cell_type": "markdown",
      "metadata": {
        "id": "2tPbZZq6GHLJ"
      },
      "source": [
        "### Função print_evaluation_scores"
      ]
    },
    {
      "cell_type": "code",
      "execution_count": null,
      "metadata": {
        "id": "rF_od2A8GGtx"
      },
      "outputs": [],
      "source": [
        "# criando a função para avaliação\n",
        "def print_evaluation_scores(y_test, predicted):\n",
        "    \n",
        "    # calculando a acuracia\n",
        "    print(\"Accuracy score :\",accuracy_score(y_true=y_test,y_pred=predicted))\n",
        "    \n",
        "    # calculando f1 score\n",
        "    print(\"F1 averaged score :\",np.mean(np.array(f1_score(y_true=y_test, y_pred=predicted, average = 'micro'))))\n",
        "    \n",
        "    # calculando a precision score\n",
        "    print(\"Precision score :\",average_precision_score(y_true=y_test, y_score=predicted, average = 'weighted'))"
      ]
    },
    {
      "cell_type": "markdown",
      "metadata": {
        "id": "tw2c6COgEXUT"
      },
      "source": [
        "### Treino dos modelos"
      ]
    },
    {
      "cell_type": "code",
      "execution_count": null,
      "metadata": {
        "id": "HNesUx9PEb89"
      },
      "outputs": [],
      "source": [
        "# transformando as classes em 0 e 1\n",
        "lb = LabelBinarizer()\n",
        "\n",
        "y_train_bin = lb.fit_transform(y_train['class']).ravel()\n",
        "y_test_bin = lb.fit_transform(y_test['class']).ravel()"
      ]
    },
    {
      "cell_type": "code",
      "execution_count": null,
      "metadata": {
        "id": "dkObGrAxFMtj"
      },
      "outputs": [],
      "source": [
        "# treinando um classificador com bow\n",
        "classifier_bow = train_classifier(x_train_bow, y_train_bin)\n",
        "# treinando um classificador com tf-idf\n",
        "classifier_tfidf = train_classifier(x_train_tfidf, y_train_bin)"
      ]
    },
    {
      "cell_type": "code",
      "execution_count": null,
      "metadata": {
        "id": "9yEgNPaKFdoa"
      },
      "outputs": [],
      "source": [
        "# realizando as previsões com labels\n",
        "y_test_predicted_labels_bow = classifier_bow.predict(x_test_bow)\n",
        "# realizando as previsões com scores\n",
        "y_test_predicted_scores_bow = classifier_bow.decision_function(x_test_bow)\n",
        "# realizando as previsões com labels\n",
        "y_test_predicted_labels_tfidf = classifier_tfidf.predict(x_test_tfidf)\n",
        "# realizando as previsões com scores\n",
        "y_test_predicted_scores_tfidf = classifier_tfidf.decision_function(x_test_tfidf)"
      ]
    },
    {
      "cell_type": "code",
      "execution_count": null,
      "metadata": {
        "id": "g2ITlsecF7n6"
      },
      "outputs": [],
      "source": [
        "y_test_pred_inversed = lb.inverse_transform(y_test_predicted_labels_tfidf)\n",
        "y_test_inversed = lb.inverse_transform(y_test_bin)\n",
        "for i in range(4):\n",
        "    print('Title:\\t{}\\nTrue class:\\t{}\\nPredicted class:\\t{}\\n\\n'.format(\n",
        "        x_test['text'][i],\n",
        "        y_test_inversed[i],\n",
        "        y_test_pred_inversed[i]\n",
        "    ))"
      ]
    },
    {
      "cell_type": "code",
      "execution_count": null,
      "metadata": {
        "colab": {
          "base_uri": "https://localhost:8080/"
        },
        "id": "8JZAUfPQGSiR",
        "outputId": "dd252123-7913-4ca1-b3da-dfebc04280c3"
      },
      "outputs": [
        {
          "output_type": "stream",
          "name": "stdout",
          "text": [
            "Bag-of-words\n",
            "---------------------------------------------\n",
            "Accuracy score : 0.9324444444444444\n",
            "F1 averaged score : 0.9324444444444444\n",
            "Precision score : 0.9088660563695256\n",
            "=-=-=-=-=-=-=-=-=-=-=-=-=-=-=-=-=-=-=-=-=-=-=\n",
            "\n",
            "Tfidf\n",
            "---------------------------------------------\n",
            "Accuracy score : 0.9413333333333334\n",
            "F1 averaged score : 0.9413333333333334\n",
            "Precision score : 0.9156520813951251\n",
            "=-=-=-=-=-=-=-=-=-=-=-=-=-=-=-=-=-=-=-=-=-=-=\n"
          ]
        }
      ],
      "source": [
        "print('Bag-of-words')\n",
        "print('---------------------------------------------')\n",
        "print_evaluation_scores(y_test_bin, y_test_predicted_labels_bow)\n",
        "print('=-=-=-=-=-=-=-=-=-=-=-=-=-=-=-=-=-=-=-=-=-=-=')\n",
        "print('\\nTfidf')\n",
        "print('---------------------------------------------')\n",
        "print_evaluation_scores(y_test_bin, y_test_predicted_labels_tfidf)\n",
        "print('=-=-=-=-=-=-=-=-=-=-=-=-=-=-=-=-=-=-=-=-=-=-=')"
      ]
    },
    {
      "cell_type": "code",
      "source": [
        "from sklearn.metrics import confusion_matrix\n",
        "confusion_matrix(y_train_bin, classifier_tfidf.predict(x_train_tfidf))\n",
        "\n",
        "pd.crosstab(y_train_bin, classifier_tfidf.predict(x_train_tfidf))"
      ],
      "metadata": {
        "colab": {
          "base_uri": "https://localhost:8080/",
          "height": 143
        },
        "id": "eiaIUMP0klS-",
        "outputId": "ac4ea2e6-7442-4afc-f5aa-a0c42c5502eb"
      },
      "execution_count": null,
      "outputs": [
        {
          "output_type": "execute_result",
          "data": {
            "text/plain": [
              "col_0     0     1\n",
              "row_0            \n",
              "0      6233   239\n",
              "1       209  6444"
            ],
            "text/html": [
              "\n",
              "  <div id=\"df-d8f1beda-ec4a-4238-a17f-7b6a9e151f88\">\n",
              "    <div class=\"colab-df-container\">\n",
              "      <div>\n",
              "<style scoped>\n",
              "    .dataframe tbody tr th:only-of-type {\n",
              "        vertical-align: middle;\n",
              "    }\n",
              "\n",
              "    .dataframe tbody tr th {\n",
              "        vertical-align: top;\n",
              "    }\n",
              "\n",
              "    .dataframe thead th {\n",
              "        text-align: right;\n",
              "    }\n",
              "</style>\n",
              "<table border=\"1\" class=\"dataframe\">\n",
              "  <thead>\n",
              "    <tr style=\"text-align: right;\">\n",
              "      <th>col_0</th>\n",
              "      <th>0</th>\n",
              "      <th>1</th>\n",
              "    </tr>\n",
              "    <tr>\n",
              "      <th>row_0</th>\n",
              "      <th></th>\n",
              "      <th></th>\n",
              "    </tr>\n",
              "  </thead>\n",
              "  <tbody>\n",
              "    <tr>\n",
              "      <th>0</th>\n",
              "      <td>6233</td>\n",
              "      <td>239</td>\n",
              "    </tr>\n",
              "    <tr>\n",
              "      <th>1</th>\n",
              "      <td>209</td>\n",
              "      <td>6444</td>\n",
              "    </tr>\n",
              "  </tbody>\n",
              "</table>\n",
              "</div>\n",
              "      <button class=\"colab-df-convert\" onclick=\"convertToInteractive('df-d8f1beda-ec4a-4238-a17f-7b6a9e151f88')\"\n",
              "              title=\"Convert this dataframe to an interactive table.\"\n",
              "              style=\"display:none;\">\n",
              "        \n",
              "  <svg xmlns=\"http://www.w3.org/2000/svg\" height=\"24px\"viewBox=\"0 0 24 24\"\n",
              "       width=\"24px\">\n",
              "    <path d=\"M0 0h24v24H0V0z\" fill=\"none\"/>\n",
              "    <path d=\"M18.56 5.44l.94 2.06.94-2.06 2.06-.94-2.06-.94-.94-2.06-.94 2.06-2.06.94zm-11 1L8.5 8.5l.94-2.06 2.06-.94-2.06-.94L8.5 2.5l-.94 2.06-2.06.94zm10 10l.94 2.06.94-2.06 2.06-.94-2.06-.94-.94-2.06-.94 2.06-2.06.94z\"/><path d=\"M17.41 7.96l-1.37-1.37c-.4-.4-.92-.59-1.43-.59-.52 0-1.04.2-1.43.59L10.3 9.45l-7.72 7.72c-.78.78-.78 2.05 0 2.83L4 21.41c.39.39.9.59 1.41.59.51 0 1.02-.2 1.41-.59l7.78-7.78 2.81-2.81c.8-.78.8-2.07 0-2.86zM5.41 20L4 18.59l7.72-7.72 1.47 1.35L5.41 20z\"/>\n",
              "  </svg>\n",
              "      </button>\n",
              "      \n",
              "  <style>\n",
              "    .colab-df-container {\n",
              "      display:flex;\n",
              "      flex-wrap:wrap;\n",
              "      gap: 12px;\n",
              "    }\n",
              "\n",
              "    .colab-df-convert {\n",
              "      background-color: #E8F0FE;\n",
              "      border: none;\n",
              "      border-radius: 50%;\n",
              "      cursor: pointer;\n",
              "      display: none;\n",
              "      fill: #1967D2;\n",
              "      height: 32px;\n",
              "      padding: 0 0 0 0;\n",
              "      width: 32px;\n",
              "    }\n",
              "\n",
              "    .colab-df-convert:hover {\n",
              "      background-color: #E2EBFA;\n",
              "      box-shadow: 0px 1px 2px rgba(60, 64, 67, 0.3), 0px 1px 3px 1px rgba(60, 64, 67, 0.15);\n",
              "      fill: #174EA6;\n",
              "    }\n",
              "\n",
              "    [theme=dark] .colab-df-convert {\n",
              "      background-color: #3B4455;\n",
              "      fill: #D2E3FC;\n",
              "    }\n",
              "\n",
              "    [theme=dark] .colab-df-convert:hover {\n",
              "      background-color: #434B5C;\n",
              "      box-shadow: 0px 1px 3px 1px rgba(0, 0, 0, 0.15);\n",
              "      filter: drop-shadow(0px 1px 2px rgba(0, 0, 0, 0.3));\n",
              "      fill: #FFFFFF;\n",
              "    }\n",
              "  </style>\n",
              "\n",
              "      <script>\n",
              "        const buttonEl =\n",
              "          document.querySelector('#df-d8f1beda-ec4a-4238-a17f-7b6a9e151f88 button.colab-df-convert');\n",
              "        buttonEl.style.display =\n",
              "          google.colab.kernel.accessAllowed ? 'block' : 'none';\n",
              "\n",
              "        async function convertToInteractive(key) {\n",
              "          const element = document.querySelector('#df-d8f1beda-ec4a-4238-a17f-7b6a9e151f88');\n",
              "          const dataTable =\n",
              "            await google.colab.kernel.invokeFunction('convertToInteractive',\n",
              "                                                     [key], {});\n",
              "          if (!dataTable) return;\n",
              "\n",
              "          const docLinkHtml = 'Like what you see? Visit the ' +\n",
              "            '<a target=\"_blank\" href=https://colab.research.google.com/notebooks/data_table.ipynb>data table notebook</a>'\n",
              "            + ' to learn more about interactive tables.';\n",
              "          element.innerHTML = '';\n",
              "          dataTable['output_type'] = 'display_data';\n",
              "          await google.colab.output.renderOutput(dataTable, element);\n",
              "          const docLink = document.createElement('div');\n",
              "          docLink.innerHTML = docLinkHtml;\n",
              "          element.appendChild(docLink);\n",
              "        }\n",
              "      </script>\n",
              "    </div>\n",
              "  </div>\n",
              "  "
            ]
          },
          "metadata": {},
          "execution_count": 22
        }
      ]
    },
    {
      "cell_type": "code",
      "source": [
        "from sklearn.metrics import confusion_matrix\n",
        "confusion_matrix(y_train_bin, classifier_tfidf.predict(x_train_tfidf))\n",
        "\n",
        "pd.crosstab(y_test_bin, classifier_tfidf.predict(x_test_tfidf))"
      ],
      "metadata": {
        "colab": {
          "base_uri": "https://localhost:8080/",
          "height": 143
        },
        "id": "250Xgd7ErRkk",
        "outputId": "79b5e729-1129-461f-bd39-6777204a4f3f"
      },
      "execution_count": null,
      "outputs": [
        {
          "output_type": "execute_result",
          "data": {
            "text/plain": [
              "col_0     0     1\n",
              "row_0            \n",
              "0      2540   187\n",
              "1       143  2755"
            ],
            "text/html": [
              "\n",
              "  <div id=\"df-80101fe1-d556-4b54-ab3c-4b5f3bbb0c28\">\n",
              "    <div class=\"colab-df-container\">\n",
              "      <div>\n",
              "<style scoped>\n",
              "    .dataframe tbody tr th:only-of-type {\n",
              "        vertical-align: middle;\n",
              "    }\n",
              "\n",
              "    .dataframe tbody tr th {\n",
              "        vertical-align: top;\n",
              "    }\n",
              "\n",
              "    .dataframe thead th {\n",
              "        text-align: right;\n",
              "    }\n",
              "</style>\n",
              "<table border=\"1\" class=\"dataframe\">\n",
              "  <thead>\n",
              "    <tr style=\"text-align: right;\">\n",
              "      <th>col_0</th>\n",
              "      <th>0</th>\n",
              "      <th>1</th>\n",
              "    </tr>\n",
              "    <tr>\n",
              "      <th>row_0</th>\n",
              "      <th></th>\n",
              "      <th></th>\n",
              "    </tr>\n",
              "  </thead>\n",
              "  <tbody>\n",
              "    <tr>\n",
              "      <th>0</th>\n",
              "      <td>2540</td>\n",
              "      <td>187</td>\n",
              "    </tr>\n",
              "    <tr>\n",
              "      <th>1</th>\n",
              "      <td>143</td>\n",
              "      <td>2755</td>\n",
              "    </tr>\n",
              "  </tbody>\n",
              "</table>\n",
              "</div>\n",
              "      <button class=\"colab-df-convert\" onclick=\"convertToInteractive('df-80101fe1-d556-4b54-ab3c-4b5f3bbb0c28')\"\n",
              "              title=\"Convert this dataframe to an interactive table.\"\n",
              "              style=\"display:none;\">\n",
              "        \n",
              "  <svg xmlns=\"http://www.w3.org/2000/svg\" height=\"24px\"viewBox=\"0 0 24 24\"\n",
              "       width=\"24px\">\n",
              "    <path d=\"M0 0h24v24H0V0z\" fill=\"none\"/>\n",
              "    <path d=\"M18.56 5.44l.94 2.06.94-2.06 2.06-.94-2.06-.94-.94-2.06-.94 2.06-2.06.94zm-11 1L8.5 8.5l.94-2.06 2.06-.94-2.06-.94L8.5 2.5l-.94 2.06-2.06.94zm10 10l.94 2.06.94-2.06 2.06-.94-2.06-.94-.94-2.06-.94 2.06-2.06.94z\"/><path d=\"M17.41 7.96l-1.37-1.37c-.4-.4-.92-.59-1.43-.59-.52 0-1.04.2-1.43.59L10.3 9.45l-7.72 7.72c-.78.78-.78 2.05 0 2.83L4 21.41c.39.39.9.59 1.41.59.51 0 1.02-.2 1.41-.59l7.78-7.78 2.81-2.81c.8-.78.8-2.07 0-2.86zM5.41 20L4 18.59l7.72-7.72 1.47 1.35L5.41 20z\"/>\n",
              "  </svg>\n",
              "      </button>\n",
              "      \n",
              "  <style>\n",
              "    .colab-df-container {\n",
              "      display:flex;\n",
              "      flex-wrap:wrap;\n",
              "      gap: 12px;\n",
              "    }\n",
              "\n",
              "    .colab-df-convert {\n",
              "      background-color: #E8F0FE;\n",
              "      border: none;\n",
              "      border-radius: 50%;\n",
              "      cursor: pointer;\n",
              "      display: none;\n",
              "      fill: #1967D2;\n",
              "      height: 32px;\n",
              "      padding: 0 0 0 0;\n",
              "      width: 32px;\n",
              "    }\n",
              "\n",
              "    .colab-df-convert:hover {\n",
              "      background-color: #E2EBFA;\n",
              "      box-shadow: 0px 1px 2px rgba(60, 64, 67, 0.3), 0px 1px 3px 1px rgba(60, 64, 67, 0.15);\n",
              "      fill: #174EA6;\n",
              "    }\n",
              "\n",
              "    [theme=dark] .colab-df-convert {\n",
              "      background-color: #3B4455;\n",
              "      fill: #D2E3FC;\n",
              "    }\n",
              "\n",
              "    [theme=dark] .colab-df-convert:hover {\n",
              "      background-color: #434B5C;\n",
              "      box-shadow: 0px 1px 3px 1px rgba(0, 0, 0, 0.15);\n",
              "      filter: drop-shadow(0px 1px 2px rgba(0, 0, 0, 0.3));\n",
              "      fill: #FFFFFF;\n",
              "    }\n",
              "  </style>\n",
              "\n",
              "      <script>\n",
              "        const buttonEl =\n",
              "          document.querySelector('#df-80101fe1-d556-4b54-ab3c-4b5f3bbb0c28 button.colab-df-convert');\n",
              "        buttonEl.style.display =\n",
              "          google.colab.kernel.accessAllowed ? 'block' : 'none';\n",
              "\n",
              "        async function convertToInteractive(key) {\n",
              "          const element = document.querySelector('#df-80101fe1-d556-4b54-ab3c-4b5f3bbb0c28');\n",
              "          const dataTable =\n",
              "            await google.colab.kernel.invokeFunction('convertToInteractive',\n",
              "                                                     [key], {});\n",
              "          if (!dataTable) return;\n",
              "\n",
              "          const docLinkHtml = 'Like what you see? Visit the ' +\n",
              "            '<a target=\"_blank\" href=https://colab.research.google.com/notebooks/data_table.ipynb>data table notebook</a>'\n",
              "            + ' to learn more about interactive tables.';\n",
              "          element.innerHTML = '';\n",
              "          dataTable['output_type'] = 'display_data';\n",
              "          await google.colab.output.renderOutput(dataTable, element);\n",
              "          const docLink = document.createElement('div');\n",
              "          docLink.innerHTML = docLinkHtml;\n",
              "          element.appendChild(docLink);\n",
              "        }\n",
              "      </script>\n",
              "    </div>\n",
              "  </div>\n",
              "  "
            ]
          },
          "metadata": {},
          "execution_count": 23
        }
      ]
    },
    {
      "cell_type": "code",
      "execution_count": null,
      "metadata": {
        "colab": {
          "base_uri": "https://localhost:8080/",
          "height": 573
        },
        "id": "xrXCLZdTGo1D",
        "outputId": "fba13232-65d5-4553-979c-ab444e83a95f"
      },
      "outputs": [
        {
          "output_type": "display_data",
          "data": {
            "text/plain": [
              "<Figure size 432x288 with 1 Axes>"
            ],
            "image/png": "[encoded data removed]"
          },
          "metadata": {
            "needs_background": "light"
          }
        },
        {
          "output_type": "display_data",
          "data": {
            "text/plain": [
              "<Figure size 432x288 with 1 Axes>"
            ],
            "image/png": "[encoded data removed]"
          },
          "metadata": {
            "needs_background": "light"
          }
        }
      ],
      "source": [
        "classes_count = Counter(y_train[\"class\"])\n",
        "\n",
        "# número de classes\n",
        "n_classes = len(classes_count)\n",
        "# plotanco a curva para bow\n",
        "fpr_bow, tpr_bow, _ = roc_curve(y_test_bin, y_test_predicted_scores_bow)\n",
        "# número de classes\n",
        "n_classes = len(classes_count)\n",
        "# plotanco a curva para tf-idf\n",
        "fpr_tf, tpr_tf, _ = roc_curve(y_test_bin, y_test_predicted_scores_tfidf)\n",
        "\n",
        "#create ROC curve\n",
        "plt.plot(fpr_bow,tpr_bow)\n",
        "plt.ylabel('Taxa de Verdadeiro Positivo')\n",
        "plt.xlabel('Taxa de Falso Positivo')\n",
        "plt.title('BoW com a coluna tema')\n",
        "plt.show()\n",
        "\n",
        "plt.plot(fpr_tf,tpr_tf)\n",
        "plt.ylabel('Taxa de Verdadeiro Positivo')\n",
        "plt.xlabel('Taxa de Falso Positivo')\n",
        "plt.title('TFIDF com a coluna tema')\n",
        "plt.show()"
      ]
    },
    {
      "cell_type": "code",
      "execution_count": null,
      "metadata": {
        "colab": {
          "base_uri": "https://localhost:8080/"
        },
        "id": "Y9vChs_TGrYk",
        "outputId": "890e9062-3954-44e3-9b3a-4a295b216743"
      },
      "outputs": [
        {
          "ename": "AttributeError",
          "evalue": "ignored",
          "output_type": "error",
          "traceback": [
            "\u001b[0;31m---------------------------------------------------------------------------\u001b[0m",
            "\u001b[0;31mAttributeError\u001b[0m                            Traceback (most recent call last)",
            "\u001b[0;32m<ipython-input-28-bc52c0e9832e>\u001b[0m in \u001b[0;36m<module>\u001b[0;34m\u001b[0m\n\u001b[1;32m      1\u001b[0m \u001b[0mall_words\u001b[0m \u001b[0;34m=\u001b[0m \u001b[0mlist\u001b[0m\u001b[0;34m(\u001b[0m\u001b[0mwords_counts\u001b[0m\u001b[0;34m.\u001b[0m\u001b[0mkeys\u001b[0m\u001b[0;34m(\u001b[0m\u001b[0;34m)\u001b[0m\u001b[0;34m)\u001b[0m\u001b[0;34m\u001b[0m\u001b[0;34m\u001b[0m\u001b[0m\n\u001b[0;32m----> 2\u001b[0;31m \u001b[0mest\u001b[0m \u001b[0;34m=\u001b[0m \u001b[0mclassifier_tfidf\u001b[0m\u001b[0;34m.\u001b[0m\u001b[0mestimators_\u001b[0m\u001b[0;34m[\u001b[0m\u001b[0;36m0\u001b[0m\u001b[0;34m]\u001b[0m\u001b[0;34m\u001b[0m\u001b[0;34m\u001b[0m\u001b[0m\n\u001b[0m\u001b[1;32m      3\u001b[0m \u001b[0;34m\u001b[0m\u001b[0m\n\u001b[1;32m      4\u001b[0m \u001b[0mtop_positive_words\u001b[0m \u001b[0;34m=\u001b[0m \u001b[0;34m[\u001b[0m\u001b[0mtfidf_reversed_vocab\u001b[0m\u001b[0;34m[\u001b[0m\u001b[0mindex\u001b[0m\u001b[0;34m]\u001b[0m \u001b[0;32mfor\u001b[0m \u001b[0mindex\u001b[0m \u001b[0;32min\u001b[0m \u001b[0mest\u001b[0m\u001b[0;34m.\u001b[0m\u001b[0mcoef_\u001b[0m\u001b[0;34m.\u001b[0m\u001b[0margsort\u001b[0m\u001b[0;34m(\u001b[0m\u001b[0;34m)\u001b[0m\u001b[0;34m.\u001b[0m\u001b[0mtolist\u001b[0m\u001b[0;34m(\u001b[0m\u001b[0;34m)\u001b[0m\u001b[0;34m[\u001b[0m\u001b[0;36m0\u001b[0m\u001b[0;34m]\u001b[0m\u001b[0;34m[\u001b[0m\u001b[0;34m-\u001b[0m\u001b[0;36m5\u001b[0m\u001b[0;34m:\u001b[0m\u001b[0;34m]\u001b[0m\u001b[0;34m]\u001b[0m\u001b[0;31m# top-5 words sorted by the coefficiens.\u001b[0m\u001b[0;34m\u001b[0m\u001b[0;34m\u001b[0m\u001b[0m\n\u001b[1;32m      5\u001b[0m \u001b[0mtop_negative_words\u001b[0m \u001b[0;34m=\u001b[0m \u001b[0;34m[\u001b[0m\u001b[0mtfidf_reversed_vocab\u001b[0m\u001b[0;34m[\u001b[0m\u001b[0mindex\u001b[0m\u001b[0;34m]\u001b[0m \u001b[0;32mfor\u001b[0m \u001b[0mindex\u001b[0m \u001b[0;32min\u001b[0m \u001b[0mest\u001b[0m\u001b[0;34m.\u001b[0m\u001b[0mcoef_\u001b[0m\u001b[0;34m.\u001b[0m\u001b[0margsort\u001b[0m\u001b[0;34m(\u001b[0m\u001b[0;34m)\u001b[0m\u001b[0;34m.\u001b[0m\u001b[0mtolist\u001b[0m\u001b[0;34m(\u001b[0m\u001b[0;34m)\u001b[0m\u001b[0;34m[\u001b[0m\u001b[0;36m0\u001b[0m\u001b[0;34m]\u001b[0m\u001b[0;34m[\u001b[0m\u001b[0;34m:\u001b[0m\u001b[0;36m5\u001b[0m\u001b[0;34m]\u001b[0m\u001b[0;34m]\u001b[0m\u001b[0;31m# bottom-5 words  sorted by the coefficients.\u001b[0m\u001b[0;34m\u001b[0m\u001b[0;34m\u001b[0m\u001b[0m\n",
            "\u001b[0;31mAttributeError\u001b[0m: 'LogisticRegression' object has no attribute 'estimators_'"
          ]
        }
      ],
      "source": [
        "all_words = list(words_counts.keys())\n",
        "est = classifier_tfidf.estimators_[0]\n",
        "\n",
        "top_positive_words = [tfidf_reversed_vocab[index] for index in est.coef_.argsort().tolist()[0][-5:]]# top-5 words sorted by the coefficiens.\n",
        "top_negative_words = [tfidf_reversed_vocab[index] for index in est.coef_.argsort().tolist()[0][:5]]# bottom-5 words  sorted by the coefficients.\n",
        "print('Top positive words:\\t{}'.format(', '.join(top_positive_words)))\n",
        "print('Top negative words:\\t{}\\n'.format(', '.join(top_negative_words)))"
      ]
    },
    {
      "cell_type": "markdown",
      "metadata": {
        "id": "cwxXw6vEHCBL"
      },
      "source": [
        "### Predição"
      ]
    },
    {
      "cell_type": "code",
      "execution_count": null,
      "metadata": {
        "id": "jv-CtqoeKlmv"
      },
      "outputs": [],
      "source": [
        "text = \"patrimonio declarado filhos pecuarista jose carlos bumlai - amigo ex-presidente lula preso operacao lava jato - mauricio bumlai saltou r 3 86 milhoes 2004 r 273 80 milhoes ano 2012 numeros sao documento informacao pesquisa investigacao pr20150042 feito receita federal coloca suspeita sob evolucao patrimonial toda familia incluindo transacao imobiliaria atipica banco btg pactual - empresario andre esteves documento receita anexado pedido prisao bumlai feito procuradores forca-tarefa lava jato curitiba encaminhado procuradoria geral republica embasar inquerito levou cadeia banqueiro andre esteves dono btg pactual lider governo senado delcidio amaral pt-sp ultima quarta-feira 24 tentarem obstruir investigacoes analise feita receita base quebra sigilos fiscais familia bumlai empresas material aponta negocios suspeitos familia pecuarista banco btg pactual nomes outros parentes sao analisados outro filho fernando bumlai patrimonio declarado aumentou r 3 28 milhoes 2004 r 59 22 milhoes 2012 veja_tambem ambos irmaos comum beneficiamento valores transacao suspeita 2012 envolveu negocios familia banco esteves btg pactual aparece reestruturacao financeira usina tambem compra r 195 milhoes fazenda filhos bumlai resta suspeicao sobre valor efetivamente pago btg pactual irmaos compra imovel rural menos ja identificou-se valores faixa r 40 milhoes nao r 50 milhoes cada alem sequenciais incompreensiveis operacoes bancarias debito conta mauricio bumlai cerca r 132 milhoes fatos merecem aprofundamento investigacao registra documento receita venda imovel rural btg pactual servicos financeiros s distribuidora titulos imobiliarios beneficiou tres membros familia neste ano 2012 titularidade condominio tres irmaos imovel rural vendido 05 abril 2012 btg pactual servicos financeiros s distr tit imobiliarios verifica-se mesma apropriacao ganho capital terra nua receita atividade rural gerando expressivo valor recursos mauricio bumlai merece melhor aprofundamento confirmacao correta tributacao eventual omissao registra documento assinado auditor fiscal receita federal roberto leonel oliveira lima dia 11 alem mauricio bumlai ter beneficiado deste expressivo recurso decorrente venda imovel rural ja citado verificou-se declarou ter contraido adicionalmente suposto mutuo r 50 milhoes metade concedida cada irmaos fernando cristiane cujo vencimento 2014 nao quitado\"\n",
        "text_prepared = text_prepare(text)"
      ]
    },
    {
      "cell_type": "code",
      "execution_count": null,
      "metadata": {
        "colab": {
          "base_uri": "https://localhost:8080/"
        },
        "id": "WLoZjpfoHFGZ",
        "outputId": "3e0ecc55-9955-4d23-ed56-8c804923f1a8"
      },
      "outputs": [
        {
          "name": "stdout",
          "output_type": "stream",
          "text": [
            "predict_proba [1.24627354e-29 1.00000000e+00]\n",
            "predict 1\n"
          ]
        }
      ],
      "source": [
        "# instanciando o vetorizador\n",
        "vectorizer = CountVectorizer(max_features = 5000)\n",
        "# aplicando a transformação\n",
        "x_train_bow = vectorizer.fit_transform(x_train['text'])\n",
        "predict_bow = vectorizer.transform([text_prepared])\n",
        "\n",
        "predict_proba = classifier_bow.predict_proba(predict_bow)[0]\n",
        "predict = classifier_bow.predict(predict_bow)[0]\n",
        "\n",
        "print(\"predict_proba\",predict_proba)\n",
        "print(\"predict\",predict)"
      ]
    },
    {
      "cell_type": "code",
      "execution_count": null,
      "metadata": {
        "colab": {
          "base_uri": "https://localhost:8080/"
        },
        "id": "AA76irxIJ60s",
        "outputId": "c27b1f93-daf6-4281-ea68-3dc33c59296b"
      },
      "outputs": [
        {
          "name": "stdout",
          "output_type": "stream",
          "text": [
            "predict_proba [0.11598192 0.88401808]\n",
            "predict 1\n"
          ]
        }
      ],
      "source": [
        "# instanciando o tfidf\n",
        "tfidf_vec = TfidfVectorizer(token_pattern = '(\\S+)', min_df = 5, max_df = .9, ngram_range = (1,2))\n",
        "# aplicando o modelo com fit_transform aos dados de treino\n",
        "x_train_tfidf = tfidf_vec.fit_transform(x_train['text'])\n",
        "# aplicando o modelo com transform aos dados de validação\n",
        "predict_tfidf = tfidf_vec.transform([text_prepared])\n",
        "\n",
        "predict_proba = classifier_tfidf.predict_proba(predict_tfidf)[0]\n",
        "predict = classifier_tfidf.predict(predict_tfidf)[0]\n",
        "\n",
        "print(\"predict_proba\",predict_proba)\n",
        "print(\"predict\",predict)"
      ]
    },
    {
      "cell_type": "code",
      "execution_count": null,
      "metadata": {
        "colab": {
          "base_uri": "https://localhost:8080/"
        },
        "id": "7NLB46R6GEJK",
        "outputId": "eb6265d2-fd5e-4274-8da7-08bed6da8e1c"
      },
      "outputs": [
        {
          "name": "stdout",
          "output_type": "stream",
          "text": [
            "predict_proba [0.50065688 0.49934312]\n",
            "predict 0\n",
            "predict_proba [0.6 0.4]\n",
            "predict 0\n",
            "predict_proba [0.6 0.4]\n",
            "predict 0\n",
            "predict_proba [0.4953105 0.5046895]\n",
            "predict 1\n"
          ]
        }
      ],
      "source": [
        "# instanciando o tfidf\n",
        "tfidf_vec = TfidfVectorizer(token_pattern = '(\\S+)', min_df = 5, max_df = .9, ngram_range = (1,2))\n",
        "# aplicando o modelo com fit_transform aos dados de treino\n",
        "x_train_tfidf = tfidf_vec.fit_transform(x_train['text'])\n",
        "# aplicando o modelo com transform aos dados de validação\n",
        "predict_tfidf = tfidf_vec.transform([text_prepared])\n",
        "\n",
        "predict_proba = lr.predict_proba(predict_tfidf)[0]\n",
        "predict = lr.predict(predict_tfidf)[0]\n",
        "\n",
        "print(\"predict_proba\",predict_proba)\n",
        "print(\"predict\",predict)\n",
        "\n",
        "\n",
        "predict_proba = knn.predict_proba(predict_tfidf)[0]\n",
        "predict = knn.predict(predict_tfidf)[0]\n",
        "\n",
        "print(\"predict_proba\",predict_proba)\n",
        "print(\"predict\",predict)\n",
        "\n",
        "predict_proba = bg.predict_proba(predict_tfidf)[0]\n",
        "predict = bg.predict(predict_tfidf)[0]\n",
        "\n",
        "print(\"predict_proba\",predict_proba)\n",
        "print(\"predict\",predict)\n",
        "\n",
        "predict_proba = adb.predict_proba(predict_tfidf)[0]\n",
        "predict = adb.predict(predict_tfidf)[0]\n",
        "\n",
        "print(\"predict_proba\",predict_proba)\n",
        "print(\"predict\",predict)"
      ]
    },
    {
      "cell_type": "markdown",
      "metadata": {
        "id": "XRAiS4hBgJAS"
      },
      "source": [
        "### Pickle - classifier"
      ]
    },
    {
      "cell_type": "code",
      "execution_count": null,
      "metadata": {
        "colab": {
          "base_uri": "https://localhost:8080/"
        },
        "id": "f9n3qoxQgapy",
        "outputId": "5927ecd9-8220-4eff-fa12-2df35d47188d"
      },
      "outputs": [
        {
          "name": "stdout",
          "output_type": "stream",
          "text": [
            "updating: content/classifier.pickle (deflated 5%)\n"
          ]
        }
      ],
      "source": [
        "with open('/content/classifier.pickle', 'wb') as f:\n",
        "    pickle.dump(lr, f)\n",
        "\n",
        "!zip -r \"/content/drive/My Drive/TCC 2022/DESENVOLVIMENTO/classificador.zip\" \"/content/classifier.pickle\""
      ]
    },
    {
      "cell_type": "code",
      "execution_count": null,
      "metadata": {
        "colab": {
          "base_uri": "https://localhost:8080/"
        },
        "id": "YSVLmOQJi9xF",
        "outputId": "fdd817d0-7329-4c70-8ab3-89e9eacfc5b3"
      },
      "outputs": [
        {
          "name": "stdout",
          "output_type": "stream",
          "text": [
            "<class 'sklearn.linear_model._logistic.LogisticRegression'>\n"
          ]
        }
      ],
      "source": [
        "with open('/content/classifier.pickle', 'rb') as f:\n",
        "  classifier = pickle.load(f)\n",
        "  print(type(classifier))"
      ]
    },
    {
      "cell_type": "code",
      "execution_count": null,
      "metadata": {
        "id": "7WiQ2PMyR20E"
      },
      "outputs": [],
      "source": [
        "with open('/content/tfidf_vec.pickle', 'wb') as f:\n",
        "    pickle.dump(tfidf_vec, f)\n",
        "\n",
        "with open('/content/x_train.pickle', 'wb') as f:\n",
        "    pickle.dump(x_train['text'], f)"
      ]
    },
    {
      "cell_type": "code",
      "execution_count": null,
      "metadata": {
        "id": "N7i5aHmCjfe6"
      },
      "outputs": [],
      "source": [
        "text = \"patrimonio declarado filhos pecuarista jose carlos bumlai - amigo ex-presidente lula preso operacao lava jato - mauricio bumlai saltou r 3 86 milhoes 2004 r 273 80 milhoes ano 2012 numeros sao documento informacao pesquisa investigacao pr20150042 feito receita federal coloca suspeita sob evolucao patrimonial toda familia incluindo transacao imobiliaria atipica banco btg pactual - empresario andre esteves documento receita anexado pedido prisao bumlai feito procuradores forca-tarefa lava jato curitiba encaminhado procuradoria geral republica embasar inquerito levou cadeia banqueiro andre esteves dono btg pactual lider governo senado delcidio amaral pt-sp ultima quarta-feira 24 tentarem obstruir investigacoes analise feita receita base quebra sigilos fiscais familia bumlai empresas material aponta negocios suspeitos familia pecuarista banco btg pactual nomes outros parentes sao analisados outro filho fernando bumlai patrimonio declarado aumentou r 3 28 milhoes 2004 r 59 22 milhoes 2012 veja_tambem ambos irmaos comum beneficiamento valores transacao suspeita 2012 envolveu negocios familia banco esteves btg pactual aparece reestruturacao financeira usina tambem compra r 195 milhoes fazenda filhos bumlai resta suspeicao sobre valor efetivamente pago btg pactual irmaos compra imovel rural menos ja identificou-se valores faixa r 40 milhoes nao r 50 milhoes cada alem sequenciais incompreensiveis operacoes bancarias debito conta mauricio bumlai cerca r 132 milhoes fatos merecem aprofundamento investigacao registra documento receita venda imovel rural btg pactual servicos financeiros s distribuidora titulos imobiliarios beneficiou tres membros familia neste ano 2012 titularidade condominio tres irmaos imovel rural vendido 05 abril 2012 btg pactual servicos financeiros s distr tit imobiliarios verifica-se mesma apropriacao ganho capital terra nua receita atividade rural gerando expressivo valor recursos mauricio bumlai merece melhor aprofundamento confirmacao correta tributacao eventual omissao registra documento assinado auditor fiscal receita federal roberto leonel oliveira lima dia 11 alem mauricio bumlai ter beneficiado deste expressivo recurso decorrente venda imovel rural ja citado verificou-se declarou ter contraido adicionalmente suposto mutuo r 50 milhoes metade concedida cada irmaos fernando cristiane cujo vencimento 2014 nao quitado\"\n",
        "text_prepared = text_prepare(text)\n",
        "\n",
        "# instanciando o tfidf\n",
        "tfidf_vec = TfidfVectorizer(token_pattern = '(\\S+)', min_df = 5, max_df = .9, ngram_range = (1,2))\n",
        "# aplicando o modelo com fit_transform aos dados de treino\n",
        "x_train_tfidf = tfidf_vec.fit_transform(x_train['text'])\n",
        "# aplicando o modelo com transform aos dados de validação\n",
        "predict_tfidf = tfidf_vec.transform([text_prepared])\n",
        "\n",
        "predict_proba = classifier.predict_proba(predict_tfidf)[0]\n",
        "predict = classifier.predict(predict_tfidf)[0]\n",
        "\n",
        "print(\"predict_proba\", predict_proba)\n",
        "print(\"predict\", predict)"
      ]
    },
    {
      "cell_type": "code",
      "execution_count": null,
      "metadata": {
        "colab": {
          "base_uri": "https://localhost:8080/"
        },
        "id": "FopS0VOzuypd",
        "outputId": "e53feb4f-f25a-44ee-8f83-ac53ee67b23e"
      },
      "outputs": [
        {
          "name": "stdout",
          "output_type": "stream",
          "text": [
            "predict_proba [0.55147597 0.44852403]\n",
            "predict 0\n"
          ]
        }
      ],
      "source": [
        "text = \"patrimonio declarado filhos pecuarista jose carlos bumlai - amigo ex-presidente lula preso operacao lava jato - mauricio bumlai saltou r 3 86 milhoes 2004 r 273 80 milhoes ano 2012 numeros sao documento informacao pesquisa investigacao pr20150042 feito receita federal coloca suspeita sob evolucao patrimonial toda familia incluindo transacao imobiliaria atipica banco btg pactual - empresario andre esteves documento receita anexado pedido prisao bumlai feito procuradores forca-tarefa lava jato curitiba encaminhado procuradoria geral republica embasar inquerito levou cadeia banqueiro andre esteves dono btg pactual lider governo senado delcidio amaral pt-sp ultima quarta-feira 24 tentarem obstruir investigacoes analise feita receita base quebra sigilos fiscais familia bumlai empresas material aponta negocios suspeitos familia pecuarista banco btg pactual nomes outros parentes sao analisados outro filho fernando bumlai patrimonio declarado aumentou r 3 28 milhoes 2004 r 59 22 milhoes 2012 veja_tambem ambos irmaos comum beneficiamento valores transacao suspeita 2012 envolveu negocios familia banco esteves btg pactual aparece reestruturacao financeira usina tambem compra r 195 milhoes fazenda filhos bumlai resta suspeicao sobre valor efetivamente pago btg pactual irmaos compra imovel rural menos ja identificou-se valores faixa r 40 milhoes nao r 50 milhoes cada alem sequenciais incompreensiveis operacoes bancarias debito conta mauricio bumlai cerca r 132 milhoes fatos merecem aprofundamento investigacao registra documento receita venda imovel rural btg pactual servicos financeiros s distribuidora titulos imobiliarios beneficiou tres membros familia neste ano 2012 titularidade condominio tres irmaos imovel rural vendido 05 abril 2012 btg pactual servicos financeiros s distr tit imobiliarios verifica-se mesma apropriacao ganho capital terra nua receita atividade rural gerando expressivo valor recursos mauricio bumlai merece melhor aprofundamento confirmacao correta tributacao eventual omissao registra documento assinado auditor fiscal receita federal roberto leonel oliveira lima dia 11 alem mauricio bumlai ter beneficiado deste expressivo recurso decorrente venda imovel rural ja citado verificou-se declarou ter contraido adicionalmente suposto mutuo r 50 milhoes metade concedida cada irmaos fernando cristiane cujo vencimento 2014 nao quitado\"\n",
        "text_prepared = text_prepare(text)\n",
        "\n",
        "enc = OneHotEncoder(handle_unknown='ignore')\n",
        "vec =  TfidfVectorizer(token_pattern = '(\\S+)', min_df = 5, max_df = .9, ngram_range = (1,2))\n",
        "\n",
        "transf = make_column_transformer((vec, 'text'),(enc, ['theme']))\n",
        "\n",
        "transf.fit_transform(x_train)\n",
        "# aplicando o modelo com transform aos dados de validação\n",
        "\n",
        "to_predict = pd.DataFrame([[text_prepared, 'politica']], columns=['text', 'theme'])\n",
        "predict_tfidf = transf.transform(to_predict)\n",
        "\n",
        "predict_proba = classifier.predict_proba(predict_tfidf)[0]\n",
        "predict = classifier.predict(predict_tfidf)[0]\n",
        "\n",
        "print(\"predict_proba\", predict_proba)\n",
        "print(\"predict\", predict)"
      ]
    },
    {
      "cell_type": "markdown",
      "metadata": {
        "id": "FakuCE1kmKCQ"
      },
      "source": [
        "### TELEBOT"
      ]
    },
    {
      "cell_type": "code",
      "execution_count": null,
      "metadata": {
        "colab": {
          "base_uri": "https://localhost:8080/"
        },
        "id": "x4OBR7l9mVyJ",
        "outputId": "3452e876-f316-4e6c-8f56-2d3969f6be1f"
      },
      "outputs": [
        {
          "output_type": "stream",
          "name": "stdout",
          "text": [
            "Looking in indexes: https://pypi.org/simple, https://us-python.pkg.dev/colab-wheels/public/simple/\n",
            "Collecting pytelegrambotapi\n",
            "  Downloading pyTelegramBotAPI-4.7.0.tar.gz (210 kB)\n",
            "\u001b[K     |████████████████████████████████| 210 kB 5.2 MB/s \n",
            "\u001b[?25hRequirement already satisfied: requests in /usr/local/lib/python3.7/dist-packages (from pytelegrambotapi) (2.23.0)\n",
            "Requirement already satisfied: urllib3!=1.25.0,!=1.25.1,<1.26,>=1.21.1 in /usr/local/lib/python3.7/dist-packages (from requests->pytelegrambotapi) (1.24.3)\n",
            "Requirement already satisfied: certifi>=2017.4.17 in /usr/local/lib/python3.7/dist-packages (from requests->pytelegrambotapi) (2022.9.24)\n",
            "Requirement already satisfied: chardet<4,>=3.0.2 in /usr/local/lib/python3.7/dist-packages (from requests->pytelegrambotapi) (3.0.4)\n",
            "Requirement already satisfied: idna<3,>=2.5 in /usr/local/lib/python3.7/dist-packages (from requests->pytelegrambotapi) (2.10)\n",
            "Building wheels for collected packages: pytelegrambotapi\n",
            "  Building wheel for pytelegrambotapi (setup.py) ... \u001b[?25l\u001b[?25hdone\n",
            "  Created wheel for pytelegrambotapi: filename=pyTelegramBotAPI-4.7.0-py3-none-any.whl size=192826 sha256=b06522d65f67d108756775c6c64a2bad82cb25ed884ecaa248911fd54099e31b\n",
            "  Stored in directory: /root/.cache/pip/wheels/ba/13/da/8abf941f7cf9f993cde6118a56a7c24e12ed791507acd8ea39\n",
            "Successfully built pytelegrambotapi\n",
            "Installing collected packages: pytelegrambotapi\n",
            "Successfully installed pytelegrambotapi-4.7.0\n",
            "Looking in indexes: https://pypi.org/simple, https://us-python.pkg.dev/colab-wheels/public/simple/\n",
            "Collecting unidecode\n",
            "  Downloading Unidecode-1.3.6-py3-none-any.whl (235 kB)\n",
            "\u001b[K     |████████████████████████████████| 235 kB 4.6 MB/s \n",
            "\u001b[?25hInstalling collected packages: unidecode\n",
            "Successfully installed unidecode-1.3.6\n"
          ]
        }
      ],
      "source": [
        "# this cell should be run only once, to install the telebot library\n",
        "! pip install pytelegrambotapi\n",
        "\n",
        "!pip install unidecode"
      ]
    },
    {
      "cell_type": "code",
      "execution_count": null,
      "metadata": {
        "colab": {
          "base_uri": "https://localhost:8080/"
        },
        "id": "EVaHMZoYPL_f",
        "outputId": "1d284764-bc30-4837-935f-8fab2ece9ad2"
      },
      "outputs": [
        {
          "output_type": "stream",
          "name": "stdout",
          "text": [
            "Mounted at /content/drive/\n"
          ]
        }
      ],
      "source": [
        "from google.colab import drive\n",
        "drive.mount('/content/drive/')"
      ]
    },
    {
      "cell_type": "code",
      "execution_count": null,
      "metadata": {
        "colab": {
          "base_uri": "https://localhost:8080/"
        },
        "id": "t16gZSt3o_Mf",
        "outputId": "ff314ef9-191e-4a1c-c415-bed16ff941c6"
      },
      "outputs": [
        {
          "output_type": "stream",
          "name": "stderr",
          "text": [
            "[nltk_data] Downloading package stopwords to /root/nltk_data...\n",
            "[nltk_data]   Unzipping corpora/stopwords.zip.\n"
          ]
        },
        {
          "output_type": "execute_result",
          "data": {
            "text/plain": [
              "True"
            ]
          },
          "metadata": {},
          "execution_count": 3
        }
      ],
      "source": [
        "import zipfile\n",
        "import nltk\n",
        "from nltk.corpus import stopwords\n",
        "import pandas as pd\n",
        "import re\n",
        "from sklearn.feature_extraction.text import TfidfVectorizer\n",
        "from sklearn.compose import make_column_transformer\n",
        "from sklearn.preprocessing import OneHotEncoder\n",
        "from unidecode import unidecode\n",
        "import pickle\n",
        "import telebot\n",
        "from telebot import types\n",
        "from telebot.types import ReplyKeyboardRemove\n",
        "\n",
        "nltk.download('stopwords') # caso a lista esteja desatualizada"
      ]
    },
    {
      "cell_type": "code",
      "execution_count": null,
      "metadata": {
        "id": "y9oxkRolq_Nc"
      },
      "outputs": [],
      "source": [
        "zip_ref = zipfile.ZipFile(\"/content/drive/My Drive/TCC 2022/DESENVOLVIMENTO/noticias_treino_teste.zip\", 'r')\n",
        "zip_ref.extractall(\"/content/treino_teste\")\n",
        "zip_ref.close()\n",
        "\n",
        "zip_ref = zipfile.ZipFile(\"/content/drive/My Drive/TCC 2022/DESENVOLVIMENTO/classificador.zip\", 'r')\n",
        "zip_ref.extractall(\"/\")\n",
        "zip_ref.close()"
      ]
    },
    {
      "cell_type": "code",
      "execution_count": null,
      "metadata": {
        "id": "coK3q89GrHKf"
      },
      "outputs": [],
      "source": [
        "# Buscando conjuntos de treino\n",
        "pathTreino = \"/content/treino_teste/content/noticias/treino_teste/noticias_treino.csv\"\n",
        "x_train = pd.read_csv(pathTreino, sep='|')\n",
        "\n",
        "with open(\"/content/classifier.pickle\", \"rb\") as f:\n",
        "    classifier = pickle.load(f)"
      ]
    },
    {
      "cell_type": "code",
      "execution_count": null,
      "metadata": {
        "id": "baG63-nCoVn3"
      },
      "outputs": [],
      "source": [
        "# criando a função para ler o arquivo\n",
        "def read_data(filename):\n",
        "    \n",
        "    # importando o arquivo\n",
        "    data = pd.read_csv(filename, sep='|')\n",
        "       \n",
        "    # retornando o arquivo\n",
        "    return data"
      ]
    },
    {
      "cell_type": "code",
      "execution_count": null,
      "metadata": {
        "id": "CNCqHBP2nZcv"
      },
      "outputs": [],
      "source": [
        "# criando os objetos com as expressões regulares\n",
        "remove_espec_carac = re.compile('[/(){}\\[\\]\\|@,;]|( - )')\n",
        "remove_symb = re.compile('[^0-9a-z #+\\-_]')\n",
        "\n",
        "# criando um objeto para remoção de stopwords no idioma português\n",
        "listStopwords = stopwords.words('portuguese')\n",
        "\n",
        "# criando função para normalizar os textos\n",
        "def text_prepare(text):\n",
        "    \n",
        "    # normalizando o texto em letras minúsculas, assim facilita a preparação\n",
        "    text = text.lower()\n",
        "    \n",
        "    # substituindo caracteres especiais por espaços em branco\n",
        "    text = remove_espec_carac.sub(' ', text)\n",
        "    \n",
        "    # remove os acentos\n",
        "    text = unidecode(text) \n",
        "\n",
        "    # retornando apenas letras e números\n",
        "    text = remove_symb.sub('', text)\n",
        "    \n",
        "    # removendo as stopwords\n",
        "    text = ' '.join(word for word in text.split() if word not in listStopwords)\n",
        "    \n",
        "    # retornando o texto modificado\n",
        "    return text"
      ]
    },
    {
      "cell_type": "code",
      "execution_count": null,
      "metadata": {
        "id": "lT6Bu-0IHKRI"
      },
      "outputs": [],
      "source": [
        "mensagem_bem_vindo = \"Bem vindo(a)!\\n\\\n",
        "Esse é um projeto de Aprendizado de Máquina e Processamento de Linguagem Natural.\\n\\\n",
        "Baseado em um conjunto amplo de notícias, um algoritmo foi treinado para classificar notícias em verdadeiras ou falsas.\\n\\\n",
        "Cole aqui a sua notícia para saber se ela pode ser falsa.\"\n",
        "\n",
        "mensagem_verdadeira = \"Essa notícia parece ser verdadeira!\\n\\\n",
        "Lembre-se sempre de verificar a fonte da notícia, sites desconhecidos podem ser um alerta.\\n\\\n",
        "Faça uma busca rápida para encontrar outras fontes.\\n\\\n",
        "Se foi uma mensagem encaminhada muitas vezes evite repassar antes de conferir a autenticidade.\\n\\\n",
        "Cuidado com notícias que causam espanto ou indignação, essa pode ser uma estratégia utilizada em fake news quando são misturadas com notícias verdadeiras.\\n\\\n",
        "Algumas agências de checagem que você pode visitar são: Aos Fatos, Agência Lupa, Fato ou Fake e o Projeto Comprova.\"\n",
        "\n",
        "mensagem_falsa = \"Essa notícia parece ser falsa!\\n\\\n",
        "Lembre-se sempre de verificar a fonte da notícia, sites desconhecidos podem ser um alerta.\\n\\\n",
        "Faça uma busca rápida para encontrar outras fontes.\\n\\\n",
        "Se foi uma mensagem encaminhada muitas vezes evite repassar antes de conferir a autenticidade.\\n\\\n",
        "Cuidado com notícias que causam espanto ou indignação, essa pode ser uma estratégia utilizada em fake news quando são misturadas com notícias verdadeiras.\\n\\\n",
        "Algumas agências de checagem que você pode visitar são: Aos Fatos, Agência Lupa, Fato ou Fake e o Projeto Comprova.\"\n",
        "\n",
        "mensagem_tema = \"Ok. Você pode ajudar na classificação definindo um tema para sua notícia, clique nessa mensagem e selecione o tema!\""
      ]
    },
    {
      "cell_type": "markdown",
      "metadata": {
        "id": "AyIMj4_UTsPu"
      },
      "source": [
        "#### SEM TEMA"
      ]
    },
    {
      "cell_type": "code",
      "execution_count": null,
      "metadata": {
        "colab": {
          "base_uri": "https://localhost:8080/"
        },
        "id": "xC_x4VLSTpjQ",
        "outputId": "f3083568-1163-46ba-80b0-d2d69b554182"
      },
      "outputs": [
        {
          "output_type": "stream",
          "name": "stderr",
          "text": [
            "2022-10-10 19:45:24,475 (__init__.py:884 MainThread) ERROR - TeleBot: \"Infinity polling: polling exited\"\n",
            "ERROR:TeleBot:Infinity polling: polling exited\n",
            "2022-10-10 19:45:24,480 (__init__.py:886 MainThread) ERROR - TeleBot: \"Break infinity polling\"\n",
            "ERROR:TeleBot:Break infinity polling\n"
          ]
        }
      ],
      "source": [
        "API_TOKEN = \"5742068832:AAEbFs15nqoVHQhSMNRKZbLKGYRwkuSUaSk\"\n",
        "\n",
        "bot = telebot.TeleBot(API_TOKEN)\n",
        "\n",
        "\n",
        "@bot.message_handler()\n",
        "def send_welcome(message):\n",
        "    try:\n",
        "      msg = bot.send_message(\n",
        "          message.chat.id,\n",
        "          mensagem_bem_vindo,\n",
        "      )\n",
        "\n",
        "      bot.register_next_step_handler(msg, process_noticia)\n",
        "    except Exception as e:\n",
        "      bot.send_message(message.chat.id, 'Desculpe, algo deu errado.')\n",
        "\n",
        "def process_noticia(message):\n",
        "    try:\n",
        "      msg = bot.send_message(\n",
        "          message.chat.id,\n",
        "          \"Processando a notícia...\",\n",
        "      )\n",
        "      resultado = predict(message.text)\n",
        "\n",
        "      if resultado == 1:\n",
        "          bot.reply_to(\n",
        "              message,\n",
        "              mensagem_verdadeira,\n",
        "          )\n",
        "      else:\n",
        "          bot.reply_to(\n",
        "              message,\n",
        "              mensagem_falsa,\n",
        "          )\n",
        "    except Exception as e:\n",
        "      bot.send_message(message.chat.id, 'Desculpe, algo deu errado.')\n",
        "\n",
        "def predict(text):\n",
        "    text_prepared = text_prepare(text)\n",
        "\n",
        "    tfidf_vec = TfidfVectorizer(token_pattern = '(\\S+)', min_df = 5, max_df = .9, ngram_range = (1,2))\n",
        "\n",
        "    tfidf_vec.fit_transform(x_train['text'])\n",
        "\n",
        "    predict_tfidf = tfidf_vec.transform([text_prepared])\n",
        "\n",
        "    predict_proba = classifier.predict_proba(predict_tfidf)[0]\n",
        "    predict = classifier.predict(predict_tfidf)[0]\n",
        "\n",
        "    print(\"predict_proba\", predict_proba)\n",
        "    print(\"predict\", predict)\n",
        "    return predict\n",
        "\n",
        "bot.infinity_polling()\n"
      ]
    },
    {
      "cell_type": "markdown",
      "metadata": {
        "id": "5Zl2pWhfTwg-"
      },
      "source": [
        "#### COM TEMA"
      ]
    },
    {
      "cell_type": "code",
      "execution_count": null,
      "metadata": {
        "colab": {
          "base_uri": "https://localhost:8080/"
        },
        "id": "5lgv3EarmP2a",
        "outputId": "f4007690-6d6e-4891-fdd1-fa4d7f139ae0"
      },
      "outputs": [
        {
          "output_type": "stream",
          "name": "stdout",
          "text": [
            "predict_proba [0.92803193 0.07196807]\n",
            "predict 0\n",
            "predict_proba [0.88168881 0.11831119]\n",
            "predict 0\n",
            "predict_proba [0.77022286 0.22977714]\n",
            "predict 0\n",
            "predict_proba [0.71504801 0.28495199]\n",
            "predict 0\n",
            "predict_proba [0.20106215 0.79893785]\n",
            "predict 1\n",
            "predict_proba [0.7550774 0.2449226]\n",
            "predict 0\n",
            "predict_proba [0.7550774 0.2449226]\n",
            "predict 0\n",
            "predict_proba [0.67679615 0.32320385]\n",
            "predict 0\n",
            "predict_proba [0.33645758 0.66354242]\n",
            "predict 1\n",
            "predict_proba [0.64468918 0.35531082]\n",
            "predict 0\n",
            "predict_proba [0.42278273 0.57721727]\n",
            "predict 1\n"
          ]
        },
        {
          "output_type": "stream",
          "name": "stderr",
          "text": [
            "2022-10-10 20:20:31,452 (__init__.py:884 MainThread) ERROR - TeleBot: \"Infinity polling: polling exited\"\n",
            "ERROR:TeleBot:Infinity polling: polling exited\n",
            "2022-10-10 20:20:31,460 (__init__.py:886 MainThread) ERROR - TeleBot: \"Break infinity polling\"\n",
            "ERROR:TeleBot:Break infinity polling\n"
          ]
        }
      ],
      "source": [
        "API_TOKEN = \"5742068832:AAEbFs15nqoVHQhSMNRKZbLKGYRwkuSUaSk\"\n",
        "\n",
        "bot = telebot.TeleBot(API_TOKEN)\n",
        "\n",
        "noticia_dict = {}\n",
        "\n",
        "markup = types.ReplyKeyboardMarkup(one_time_keyboard=True, resize_keyboard=True)\n",
        "markup.add('Política','Saúde','Entretenimento','Mundo','Brasil','Ciência/Tecnologia','Religião',\"Economia\")\n",
        "\n",
        "class Noticia:\n",
        "    def __init__(self, text, msg):\n",
        "        self.msg = msg\n",
        "        self.text = text\n",
        "        self.theme = None\n",
        "\n",
        "@bot.message_handler()\n",
        "def send_welcome(message):\n",
        "    try:\n",
        "      msg = bot.send_message(\n",
        "          message.chat.id,\n",
        "          mensagem_bem_vindo,\n",
        "          reply_markup=ReplyKeyboardRemove()\n",
        "      )\n",
        "\n",
        "      bot.register_next_step_handler(msg, ask_theme)\n",
        "    except Exception as e:\n",
        "      bot.send_message(message.chat.id, 'Desculpe, algo deu errado.')\n",
        "\n",
        "def ask_theme(message):\n",
        "    try:\n",
        "      chat_id = message.chat.id\n",
        "      text = message.text\n",
        "      noticia = Noticia(text, message)\n",
        "      noticia_dict[chat_id] = noticia\n",
        "\n",
        "      msg = bot.reply_to(message, mensagem_tema, reply_markup=markup)\n",
        "\n",
        "      bot.register_next_step_handler(msg, process_noticia)\n",
        "    except Exception as e:\n",
        "      bot.send_message(message.chat.id, 'Desculpe, algo deu errado.')\n",
        "\n",
        "\n",
        "def process_noticia(message):\n",
        "    try:\n",
        "      chat_id = message.chat.id\n",
        "      noticia = noticia_dict[chat_id]\n",
        "      noticia.theme = message.text\n",
        "\n",
        "      if message.text == 'Política':\n",
        "         noticia.theme = 'politica'\n",
        "      elif message.text == 'Saúde':\n",
        "          noticia.theme = 'saude'\n",
        "      elif message.text == 'Entretenimento':\n",
        "          noticia.theme = 'entretenimento'\n",
        "      elif message.text == 'Mundo':\n",
        "          noticia.theme = 'mundo'\n",
        "      elif message.text == 'Brasil':\n",
        "          noticia.theme = 'brasil'\n",
        "      elif message.text == 'Ciência/Tecnologia':\n",
        "          noticia.theme = 'ciencia_tecnologia'\n",
        "      elif message.text == 'Religião':\n",
        "          noticia.theme = 'religiao'\n",
        "      elif message.text == 'Economia':\n",
        "          noticia.theme = 'economia'\n",
        "      else: \n",
        "          bot.reply_to(\n",
        "                message,\n",
        "                \"Selecione um dos temas fornecidos.\",\n",
        "            )\n",
        "          msg = bot.reply_to(message, mensagem_tema, reply_markup=markup)\n",
        "          bot.register_next_step_handler(msg, process_noticia)\n",
        "          return\n",
        "\n",
        "      msg = bot.send_message(\n",
        "          message.chat.id,\n",
        "          \"Processando a notícia...\",\n",
        "          reply_markup=ReplyKeyboardRemove()\n",
        "      )\n",
        "\n",
        "\n",
        "      resultado = predict(noticia.text, noticia.theme)\n",
        "\n",
        "      del noticia_dict[chat_id]\n",
        "\n",
        "      if resultado == 1:\n",
        "          bot.reply_to(\n",
        "              noticia.msg,\n",
        "              mensagem_verdadeira,\n",
        "          )\n",
        "      else:\n",
        "          bot.reply_to(\n",
        "              noticia.msg,\n",
        "              mensagem_falsa,\n",
        "          )\n",
        "    except Exception as e:\n",
        "      print(e)\n",
        "      chat_id = message.chat.id\n",
        "      if noticia_dict[chat_id]:\n",
        "        del noticia_dict[chat_id]\n",
        "      bot.send_message(message.chat.id, 'Desculpe, algo deu errado.')\n",
        "\n",
        "def predict(text , theme):\n",
        "    text_prepared = text_prepare(text)\n",
        "\n",
        "    enc = OneHotEncoder(handle_unknown='ignore')\n",
        "    vec =  TfidfVectorizer(token_pattern = '(\\S+)', min_df = 5, max_df = .9, ngram_range = (1,2))\n",
        "\n",
        "    transf = make_column_transformer((vec, 'text'),(enc, ['theme']))\n",
        "\n",
        "    transf.fit_transform(x_train)\n",
        "\n",
        "    to_predict = pd.DataFrame([[text_prepared, theme]], columns=['text', 'theme'])\n",
        "    predict_transform = transf.transform(to_predict)\n",
        "\n",
        "    predict_proba = classifier.predict_proba(predict_transform)[0]\n",
        "    predict = classifier.predict(predict_transform)[0]\n",
        "\n",
        "    print(\"predict_proba\", predict_proba)\n",
        "    print(\"predict\", predict)\n",
        "    return predict\n",
        "\n",
        "bot.infinity_polling()\n"
      ]
    },
    {
      "cell_type": "markdown",
      "metadata": {
        "id": "HSS1SxMHAGC3"
      },
      "source": [
        "#### Para print"
      ]
    },
    {
      "cell_type": "code",
      "execution_count": null,
      "metadata": {
        "id": "-1oyVt2g_vkQ",
        "colab": {
          "base_uri": "https://localhost:8080/",
          "height": 235
        },
        "outputId": "908189d1-ebe3-4e5b-b61e-05e6b812b7b8"
      },
      "outputs": [
        {
          "output_type": "error",
          "ename": "NameError",
          "evalue": "ignored",
          "traceback": [
            "\u001b[0;31m---------------------------------------------------------------------------\u001b[0m",
            "\u001b[0;31mNameError\u001b[0m                                 Traceback (most recent call last)",
            "\u001b[0;32m<ipython-input-11-6740477a584a>\u001b[0m in \u001b[0;36m<module>\u001b[0;34m\u001b[0m\n\u001b[1;32m      1\u001b[0m \u001b[0mx_train\u001b[0m \u001b[0;34m=\u001b[0m \u001b[0mpd\u001b[0m\u001b[0;34m.\u001b[0m\u001b[0mread_csv\u001b[0m\u001b[0;34m(\u001b[0m\u001b[0mpathTreino\u001b[0m\u001b[0;34m,\u001b[0m \u001b[0msep\u001b[0m\u001b[0;34m=\u001b[0m\u001b[0;34m'|'\u001b[0m\u001b[0;34m)\u001b[0m\u001b[0;34m\u001b[0m\u001b[0;34m\u001b[0m\u001b[0m\n\u001b[0;32m----> 2\u001b[0;31m \u001b[0;32mwith\u001b[0m \u001b[0mopen\u001b[0m\u001b[0;34m(\u001b[0m\u001b[0mpath_classifier\u001b[0m\u001b[0;34m,\u001b[0m \u001b[0;34m\"rb\"\u001b[0m\u001b[0;34m)\u001b[0m \u001b[0;32mas\u001b[0m \u001b[0mf\u001b[0m\u001b[0;34m:\u001b[0m\u001b[0;34m\u001b[0m\u001b[0;34m\u001b[0m\u001b[0m\n\u001b[0m\u001b[1;32m      3\u001b[0m     \u001b[0mclassifier\u001b[0m \u001b[0;34m=\u001b[0m \u001b[0mpickle\u001b[0m\u001b[0;34m.\u001b[0m\u001b[0mload\u001b[0m\u001b[0;34m(\u001b[0m\u001b[0mf\u001b[0m\u001b[0;34m)\u001b[0m\u001b[0;34m\u001b[0m\u001b[0;34m\u001b[0m\u001b[0m\n\u001b[1;32m      4\u001b[0m \u001b[0;34m\u001b[0m\u001b[0m\n\u001b[1;32m      5\u001b[0m \u001b[0mAPI_TOKEN\u001b[0m \u001b[0;34m=\u001b[0m \u001b[0;34m\"\"\u001b[0m\u001b[0;34m\u001b[0m\u001b[0;34m\u001b[0m\u001b[0m\n",
            "\u001b[0;31mNameError\u001b[0m: name 'path_classifier' is not defined"
          ]
        }
      ],
      "source": [
        "x_train = pd.read_csv(pathTreino, sep='|')\n",
        "with open(path_classifier, \"rb\") as f:\n",
        "    classifier = pickle.load(f)\n",
        "\n",
        "API_TOKEN = \"\"\n",
        "bot = telebot.TeleBot(API_TOKEN)\n",
        "\n",
        "markup = types.ReplyKeyboardMarkup(one_time_keyboard=True, resize_keyboard=True)\n",
        "markup.add('Política','Saúde','Entretenimento','Mundo','Brasil',\n",
        "           'Ciência/Tecnologia','Religião',\"Economia\")\n",
        "\n",
        "noticia_dict = {}\n",
        "class Noticia:\n",
        "    def __init__(self, text, msg):\n",
        "        self.msg = msg\n",
        "        self.text = text\n",
        "        self.theme = None\n",
        "\n",
        "@bot.message_handler()\n",
        "def send_welcome(message):\n",
        "    try:\n",
        "      msg = bot.send_message(\n",
        "          message.chat.id,\n",
        "          mensagem_bem_vindo,\n",
        "          reply_markup=ReplyKeyboardRemove()\n",
        "      )\n",
        "      bot.register_next_step_handler(msg, ask_theme)\n",
        "    except Exception as e:\n",
        "      bot.send_message(message.chat.id, 'Desculpe, algo deu errado.')\n",
        "def ask_theme(message):\n",
        "    try:\n",
        "      chat_id = message.chat.id\n",
        "      text = message.text\n",
        "      noticia = Noticia(text, message)\n",
        "      noticia_dict[chat_id] = noticia\n",
        "      msg = bot.reply_to(message, mensagem_tema, reply_markup=markup)\n",
        "      bot.register_next_step_handler(msg, process_noticia)\n",
        "    except Exception as e:\n",
        "      bot.send_message(message.chat.id, 'Desculpe, algo deu errado.')\n",
        "\n",
        "\n",
        "def process_noticia(message):\n",
        "    try:\n",
        "      chat_id = message.chat.id\n",
        "      noticia = noticia_dict[chat_id]\n",
        "      if message.text == 'Política':\n",
        "         noticia.theme = 'politica'\n",
        "      #aqui vai o restante das validações para cada tema\n",
        "      else: \n",
        "          bot.reply_to(\n",
        "                message,\n",
        "                \"Selecione um dos temas fornecidos.\",\n",
        "            )\n",
        "          msg = bot.reply_to(message, mensagem_tema, reply_markup=markup)\n",
        "          bot.register_next_step_handler(msg, process_noticia)\n",
        "          return\n",
        "      msg = bot.send_message(message.chat.id,\"Processando a notícia...\",\n",
        "          reply_markup=ReplyKeyboardRemove()\n",
        "      )\n",
        "      resultado = predict(noticia.text, noticia.theme)\n",
        "      del noticia_dict[chat_id]\n",
        "      if resultado == 1:\n",
        "          bot.reply_to(noticia.msg, mensagem_verdadeira)\n",
        "      else:\n",
        "          bot.reply_to(noticia.msg, mensagem_falsa)\n",
        "    except Exception as e:\n",
        "      chat_id = message.chat.id\n",
        "      if noticia_dict[chat_id]:\n",
        "        del noticia_dict[chat_id]\n",
        "      bot.send_message(message.chat.id, 'Desculpe, algo deu errado.')\n",
        "\n",
        "def predict(text , theme):\n",
        "    text_prepared = text_prepare(text)\n",
        "    enc = OneHotEncoder(handle_unknown='ignore')\n",
        "    vec =  TfidfVectorizer(token_pattern = '(\\S+)', min_df = 5, max_df = .9,\n",
        "                           ngram_range = (1,2))\n",
        "    transf = make_column_transformer((vec, 'text'),(enc, ['theme']))\n",
        "    transf.fit_transform(x_train)\n",
        "    to_predict= pd.DataFrame([[text_prepared, theme]],columns=['text', 'theme'])\n",
        "    predict_transform = transf.transform(to_predict)\n",
        "    predict_proba = classifier.predict_proba(predict_transform)[0]\n",
        "    predict = classifier.predict(predict_transform)[0]\n",
        "    print(\"predict_proba\", predict_proba)\n",
        "    print(\"predict\", predict)\n",
        "    return predict\n",
        "\n",
        "bot.infinity_polling()"
      ]
    }
  ],
  "metadata": {
    "colab": {
      "collapsed_sections": [
        "8QZuTD_V6KLg",
        "j4NOt2AKYB9m",
        "jutlEWyNYQgF",
        "qIX3ByjDZ57Z",
        "onnmrggp7Rd0",
        "GeMyOILV7lkk",
        "L6LXZy0n8By0",
        "l2xQhiLB-tuB",
        "O2M-jPv2Cu2l",
        "vNP-hPW2DnqO",
        "_-nM3HXWlu33",
        "Po-G89YTlw3h",
        "LfK6eDSElz5q",
        "FfEZqhqfl1yR",
        "HjiGwHhll4NZ",
        "KeVBh0ufE0bj",
        "2tPbZZq6GHLJ",
        "cwxXw6vEHCBL",
        "XRAiS4hBgJAS",
        "FakuCE1kmKCQ",
        "AyIMj4_UTsPu",
        "5Zl2pWhfTwg-"
      ],
      "provenance": [],
      "authorship_tag": "ABX9TyPefQi5gtG1Nvn7/hEaQwXr",
      "include_colab_link": true
    },
    "kernelspec": {
      "display_name": "Python 3",
      "name": "python3"
    },
    "language_info": {
      "name": "python"
    }
  },
  "nbformat": 4,
  "nbformat_minor": 0
}